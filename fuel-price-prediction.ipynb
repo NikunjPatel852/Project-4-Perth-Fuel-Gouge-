{
 "cells": [
  {
   "cell_type": "markdown",
   "metadata": {},
   "source": [
    "Fuel Price Prediction\n",
    "Objective\n",
    "To build suitable Machine Learning Model for Fuel Price Prediction on the bellow data set.\n",
    "\n",
    "Table of contents\n",
    "Importing Libraries and Dataset\n",
    "Exploratory Data Analysis\n",
    "Feature Engineering\n",
    "Data Vizualization\n",
    "Model Building\n",
    "Model Evaluation\n",
    "Generating pickle\n"
   ]
  },
  {
   "cell_type": "markdown",
   "metadata": {},
   "source": [
    "Importing Libraries and Dataset"
   ]
  },
  {
   "cell_type": "code",
   "execution_count": 45,
   "metadata": {},
   "outputs": [],
   "source": [
    "# importing required libraries\n",
    "import numpy as np\n",
    "import pandas as pd\n",
    "import warnings\n",
    "warnings.filterwarnings(\"ignore\")\n",
    "import matplotlib.pyplot as plt\n",
    "import seaborn as sns\n",
    "%matplotlib inline\n",
    "import pickle\n",
    "from sklearn.model_selection import train_test_split\n",
    "from sklearn.linear_model import LinearRegression\n",
    "from sklearn.svm import SVR, LinearSVR\n",
    "from sklearn.ensemble import RandomForestRegressor\n",
    "from sklearn.metrics import mean_squared_error\n",
    "from lightgbm.sklearn import LGBMRegressor"
   ]
  },
  {
   "cell_type": "markdown",
   "metadata": {},
   "source": [
    "Load the Perth fuel data from AWS Database.\n",
    "\n",
    "    The dataset was taken from the fuelwatch web site starts from 2002 to current day. The columnes are listed below giving a view of the data we have to work with to create prediction on price. \n",
    "        \n",
    "        column name = Description \n",
    "        year = Year of record \n",
    "        month = Month of record \n",
    "        day = Day of record \n",
    "        trading_name = Name of fuel station \n",
    "        brand_description = Brand of fuel station \n",
    "        product_description = Type of feul \n",
    "        product_price = Price recorderd \n",
    "        address = address of station (DROPPED)\n",
    "        location = Location based on Suberb \n",
    "        postcode = Perth postcode (DROPPED)\n",
    "        area_description = Area location in WA \n",
    "        region_description = Region location in WA "
   ]
  },
  {
   "cell_type": "code",
   "execution_count": 46,
   "metadata": {},
   "outputs": [
    {
     "data": {
      "text/html": [
       "<div>\n",
       "<style scoped>\n",
       "    .dataframe tbody tr th:only-of-type {\n",
       "        vertical-align: middle;\n",
       "    }\n",
       "\n",
       "    .dataframe tbody tr th {\n",
       "        vertical-align: top;\n",
       "    }\n",
       "\n",
       "    .dataframe thead th {\n",
       "        text-align: right;\n",
       "    }\n",
       "</style>\n",
       "<table border=\"1\" class=\"dataframe\">\n",
       "  <thead>\n",
       "    <tr style=\"text-align: right;\">\n",
       "      <th></th>\n",
       "      <th>Unnamed: 0</th>\n",
       "      <th>publish_date</th>\n",
       "      <th>trading_name</th>\n",
       "      <th>brand_description</th>\n",
       "      <th>product_description</th>\n",
       "      <th>product_price</th>\n",
       "      <th>address</th>\n",
       "      <th>location</th>\n",
       "      <th>postcode</th>\n",
       "      <th>area_description</th>\n",
       "      <th>region_description</th>\n",
       "    </tr>\n",
       "  </thead>\n",
       "  <tbody>\n",
       "    <tr>\n",
       "      <th>0</th>\n",
       "      <td>0</td>\n",
       "      <td>01/01/2019</td>\n",
       "      <td>53 Mile Roadhouse</td>\n",
       "      <td>United</td>\n",
       "      <td>ULP</td>\n",
       "      <td>121.9</td>\n",
       "      <td>31 South Western Hwy</td>\n",
       "      <td>PINJARRA</td>\n",
       "      <td>6208</td>\n",
       "      <td>Murray</td>\n",
       "      <td>Peel</td>\n",
       "    </tr>\n",
       "    <tr>\n",
       "      <th>1</th>\n",
       "      <td>1</td>\n",
       "      <td>01/01/2019</td>\n",
       "      <td>53 Mile Roadhouse</td>\n",
       "      <td>United</td>\n",
       "      <td>Diesel</td>\n",
       "      <td>137.9</td>\n",
       "      <td>31 South Western Hwy</td>\n",
       "      <td>PINJARRA</td>\n",
       "      <td>6208</td>\n",
       "      <td>Murray</td>\n",
       "      <td>Peel</td>\n",
       "    </tr>\n",
       "    <tr>\n",
       "      <th>2</th>\n",
       "      <td>2</td>\n",
       "      <td>01/01/2019</td>\n",
       "      <td>53 Mile Roadhouse</td>\n",
       "      <td>United</td>\n",
       "      <td>98 RON</td>\n",
       "      <td>150.9</td>\n",
       "      <td>31 South Western Hwy</td>\n",
       "      <td>PINJARRA</td>\n",
       "      <td>6208</td>\n",
       "      <td>Murray</td>\n",
       "      <td>Peel</td>\n",
       "    </tr>\n",
       "    <tr>\n",
       "      <th>3</th>\n",
       "      <td>3</td>\n",
       "      <td>01/01/2019</td>\n",
       "      <td>7-Eleven Ascot</td>\n",
       "      <td>7-Eleven</td>\n",
       "      <td>ULP</td>\n",
       "      <td>139.9</td>\n",
       "      <td>194 Great Eastern Hwy</td>\n",
       "      <td>ASCOT</td>\n",
       "      <td>6104</td>\n",
       "      <td>South of River</td>\n",
       "      <td>Metro</td>\n",
       "    </tr>\n",
       "    <tr>\n",
       "      <th>4</th>\n",
       "      <td>4</td>\n",
       "      <td>01/01/2019</td>\n",
       "      <td>7-Eleven Ascot</td>\n",
       "      <td>7-Eleven</td>\n",
       "      <td>Brand Diesel</td>\n",
       "      <td>139.9</td>\n",
       "      <td>194 Great Eastern Hwy</td>\n",
       "      <td>ASCOT</td>\n",
       "      <td>6104</td>\n",
       "      <td>South of River</td>\n",
       "      <td>Metro</td>\n",
       "    </tr>\n",
       "  </tbody>\n",
       "</table>\n",
       "</div>"
      ],
      "text/plain": [
       "   Unnamed: 0 publish_date       trading_name brand_description  \\\n",
       "0           0   01/01/2019  53 Mile Roadhouse            United   \n",
       "1           1   01/01/2019  53 Mile Roadhouse            United   \n",
       "2           2   01/01/2019  53 Mile Roadhouse            United   \n",
       "3           3   01/01/2019     7-Eleven Ascot          7-Eleven   \n",
       "4           4   01/01/2019     7-Eleven Ascot          7-Eleven   \n",
       "\n",
       "  product_description  product_price                address  location  \\\n",
       "0                 ULP          121.9   31 South Western Hwy  PINJARRA   \n",
       "1              Diesel          137.9   31 South Western Hwy  PINJARRA   \n",
       "2              98 RON          150.9   31 South Western Hwy  PINJARRA   \n",
       "3                 ULP          139.9  194 Great Eastern Hwy     ASCOT   \n",
       "4        Brand Diesel          139.9  194 Great Eastern Hwy     ASCOT   \n",
       "\n",
       "   postcode area_description region_description  \n",
       "0      6208           Murray               Peel  \n",
       "1      6208           Murray               Peel  \n",
       "2      6208           Murray               Peel  \n",
       "3      6104   South of River              Metro  \n",
       "4      6104   South of River              Metro  "
      ]
     },
     "execution_count": 46,
     "metadata": {},
     "output_type": "execute_result"
    }
   ],
   "source": [
    "# Load CSV \n",
    "perth_fuel = pd.read_csv(\"Resources\\perthfuel.csv\")\n",
    "perth_fuel.head()"
   ]
  },
  {
   "cell_type": "code",
   "execution_count": 47,
   "metadata": {},
   "outputs": [],
   "source": [
    "# Drop columns to reduce the diffrent featuere. \n",
    "perth_fuel = perth_fuel.drop(columns=[\n",
    "    'Unnamed: 0',\n",
    "    'address',\n",
    "    'postcode',\n",
    "    'area_description',\n",
    "    'location',\n",
    "    'trading_name',\n",
    "    'brand_description']).reset_index().drop(columns=['index'])"
   ]
  },
  {
   "cell_type": "code",
   "execution_count": 48,
   "metadata": {},
   "outputs": [
    {
     "name": "stdout",
     "output_type": "stream",
     "text": [
      "The size of Dataframe is:  (2726847, 4)\n",
      "\n",
      "\n",
      "<class 'pandas.core.frame.DataFrame'>\n",
      "RangeIndex: 2726847 entries, 0 to 2726846\n",
      "Data columns (total 4 columns):\n",
      " #   Column               Dtype  \n",
      "---  ------               -----  \n",
      " 0   publish_date         object \n",
      " 1   product_description  object \n",
      " 2   product_price        float64\n",
      " 3   region_description   object \n",
      "dtypes: float64(1), object(3)\n",
      "memory usage: 83.2+ MB\n"
     ]
    }
   ],
   "source": [
    "# Get a idea of the size of the dataframe. \n",
    "print('The size of Dataframe is: ', perth_fuel.shape)\n",
    "print('\\n')\n",
    "perth_fuel.info()"
   ]
  },
  {
   "cell_type": "code",
   "execution_count": 51,
   "metadata": {},
   "outputs": [
    {
     "name": "stdout",
     "output_type": "stream",
     "text": [
      "['ULP' 'Diesel' '98 RON' 'Brand Diesel' 'PULP' 'LPG' 'E85']\n",
      "['Peel' 'Metro' 'Great Southern' 'Mid-West' 'South-West' 'Kimberley'\n",
      " 'Gascoyne' 'Wheatbelt' 'Goldfields-Esperance' 'Pilbara']\n"
     ]
    }
   ],
   "source": [
    "# Check the diffrent products and regions. \n",
    "print(perth_fuel[\"product_description\"].unique())\n",
    "print(perth_fuel[\"region_description\"].unique())"
   ]
  },
  {
   "cell_type": "code",
   "execution_count": 52,
   "metadata": {},
   "outputs": [
    {
     "data": {
      "text/plain": [
       "<AxesSubplot:xlabel='product_description', ylabel='count'>"
      ]
     },
     "execution_count": 52,
     "metadata": {},
     "output_type": "execute_result"
    },
    {
     "data": {
      "image/png": "[encoded data removed]",
      "text/plain": [
       "<Figure size 432x288 with 1 Axes>"
      ]
     },
     "metadata": {
      "needs_background": "light"
     },
     "output_type": "display_data"
    }
   ],
   "source": [
    "# Quick plot of the diffrent products \n",
    "sns.countplot(\"product_description\", data = perth_fuel )"
   ]
  },
  {
   "cell_type": "code",
   "execution_count": 54,
   "metadata": {},
   "outputs": [],
   "source": [
    "# reset  the index before we move to plit the dates. \n",
    "perth_fuel = perth_fuel.reset_index()\n",
    "\n",
    "# Create for loop to split the data frame into year, month, day \n",
    "# this way you can also add day names. \n",
    "for col in ['publish_date']:\n",
    "    date_col = pd.to_datetime(perth_fuel[col])\n",
    "    # perth_fuel[col + '_weekday'] = date_col.dt.day_name()\n",
    "    perth_fuel[col + '_day'] = date_col.dt.day\n",
    "    perth_fuel[col + '_month'] = date_col.dt.month\n",
    "    perth_fuel[col + '_year'] = date_col.dt.year\n",
    "    \n",
    "    del perth_fuel[col]\n"
   ]
  },
  {
   "cell_type": "code",
   "execution_count": null,
   "metadata": {},
   "outputs": [],
   "source": [
    "# Due to the size of the dataset going to narrow the scope down to ULP prices only. \n",
    "# Create dict to store the ref\n",
    "fuel_type = ['ULP']\n",
    "\n",
    "# Action using loc and drop the product and region. \n",
    "perth_fuel = perth_fuel.loc[perth_fuel[\n",
    "    'product_description'].isin(fuel_type)].drop(columns=[\n",
    "        'product_description', 'region_description'])"
   ]
  },
  {
   "cell_type": "code",
   "execution_count": 57,
   "metadata": {},
   "outputs": [
    {
     "data": {
      "text/html": [
       "<style  type=\"text/css\" >\n",
       "#T_f3d56442_4c0a_11ec_afed_ccf9e49b12c9row0_col0,#T_f3d56442_4c0a_11ec_afed_ccf9e49b12c9row1_col1,#T_f3d56442_4c0a_11ec_afed_ccf9e49b12c9row2_col2,#T_f3d56442_4c0a_11ec_afed_ccf9e49b12c9row3_col3,#T_f3d56442_4c0a_11ec_afed_ccf9e49b12c9row4_col4{\n",
       "            background-color:  #b40426;\n",
       "            color:  #f1f1f1;\n",
       "        }#T_f3d56442_4c0a_11ec_afed_ccf9e49b12c9row0_col1{\n",
       "            background-color:  #455cce;\n",
       "            color:  #f1f1f1;\n",
       "        }#T_f3d56442_4c0a_11ec_afed_ccf9e49b12c9row0_col2{\n",
       "            background-color:  #516ddb;\n",
       "            color:  #000000;\n",
       "        }#T_f3d56442_4c0a_11ec_afed_ccf9e49b12c9row0_col3{\n",
       "            background-color:  #799cf8;\n",
       "            color:  #000000;\n",
       "        }#T_f3d56442_4c0a_11ec_afed_ccf9e49b12c9row0_col4{\n",
       "            background-color:  #c73635;\n",
       "            color:  #f1f1f1;\n",
       "        }#T_f3d56442_4c0a_11ec_afed_ccf9e49b12c9row1_col0,#T_f3d56442_4c0a_11ec_afed_ccf9e49b12c9row2_col0,#T_f3d56442_4c0a_11ec_afed_ccf9e49b12c9row3_col2,#T_f3d56442_4c0a_11ec_afed_ccf9e49b12c9row3_col4,#T_f3d56442_4c0a_11ec_afed_ccf9e49b12c9row4_col1,#T_f3d56442_4c0a_11ec_afed_ccf9e49b12c9row4_col2,#T_f3d56442_4c0a_11ec_afed_ccf9e49b12c9row4_col3{\n",
       "            background-color:  #3b4cc0;\n",
       "            color:  #f1f1f1;\n",
       "        }#T_f3d56442_4c0a_11ec_afed_ccf9e49b12c9row1_col2,#T_f3d56442_4c0a_11ec_afed_ccf9e49b12c9row3_col1{\n",
       "            background-color:  #465ecf;\n",
       "            color:  #f1f1f1;\n",
       "        }#T_f3d56442_4c0a_11ec_afed_ccf9e49b12c9row1_col3,#T_f3d56442_4c0a_11ec_afed_ccf9e49b12c9row3_col0{\n",
       "            background-color:  #5a78e4;\n",
       "            color:  #000000;\n",
       "        }#T_f3d56442_4c0a_11ec_afed_ccf9e49b12c9row1_col4{\n",
       "            background-color:  #4e68d8;\n",
       "            color:  #000000;\n",
       "        }#T_f3d56442_4c0a_11ec_afed_ccf9e49b12c9row2_col1{\n",
       "            background-color:  #3c4ec2;\n",
       "            color:  #f1f1f1;\n",
       "        }#T_f3d56442_4c0a_11ec_afed_ccf9e49b12c9row2_col3{\n",
       "            background-color:  #445acc;\n",
       "            color:  #f1f1f1;\n",
       "        }#T_f3d56442_4c0a_11ec_afed_ccf9e49b12c9row2_col4{\n",
       "            background-color:  #4358cb;\n",
       "            color:  #f1f1f1;\n",
       "        }#T_f3d56442_4c0a_11ec_afed_ccf9e49b12c9row4_col0{\n",
       "            background-color:  #ca3b37;\n",
       "            color:  #f1f1f1;\n",
       "        }</style><table id=\"T_f3d56442_4c0a_11ec_afed_ccf9e49b12c9\" ><thead>    <tr>        <th class=\"blank level0\" ></th>        <th class=\"col_heading level0 col0\" >index</th>        <th class=\"col_heading level0 col1\" >product_price</th>        <th class=\"col_heading level0 col2\" >publish_date_day</th>        <th class=\"col_heading level0 col3\" >publish_date_month</th>        <th class=\"col_heading level0 col4\" >publish_date_year</th>    </tr></thead><tbody>\n",
       "                <tr>\n",
       "                        <th id=\"T_f3d56442_4c0a_11ec_afed_ccf9e49b12c9level0_row0\" class=\"row_heading level0 row0\" >index</th>\n",
       "                        <td id=\"T_f3d56442_4c0a_11ec_afed_ccf9e49b12c9row0_col0\" class=\"data row0 col0\" >1.000000</td>\n",
       "                        <td id=\"T_f3d56442_4c0a_11ec_afed_ccf9e49b12c9row0_col1\" class=\"data row0 col1\" >0.048498</td>\n",
       "                        <td id=\"T_f3d56442_4c0a_11ec_afed_ccf9e49b12c9row0_col2\" class=\"data row0 col2\" >0.051351</td>\n",
       "                        <td id=\"T_f3d56442_4c0a_11ec_afed_ccf9e49b12c9row0_col3\" class=\"data row0 col3\" >0.145435</td>\n",
       "                        <td id=\"T_f3d56442_4c0a_11ec_afed_ccf9e49b12c9row0_col4\" class=\"data row0 col4\" >0.942533</td>\n",
       "            </tr>\n",
       "            <tr>\n",
       "                        <th id=\"T_f3d56442_4c0a_11ec_afed_ccf9e49b12c9level0_row1\" class=\"row_heading level0 row1\" >product_price</th>\n",
       "                        <td id=\"T_f3d56442_4c0a_11ec_afed_ccf9e49b12c9row1_col0\" class=\"data row1 col0\" >0.048498</td>\n",
       "                        <td id=\"T_f3d56442_4c0a_11ec_afed_ccf9e49b12c9row1_col1\" class=\"data row1 col1\" >1.000000</td>\n",
       "                        <td id=\"T_f3d56442_4c0a_11ec_afed_ccf9e49b12c9row1_col2\" class=\"data row1 col2\" >0.017941</td>\n",
       "                        <td id=\"T_f3d56442_4c0a_11ec_afed_ccf9e49b12c9row1_col3\" class=\"data row1 col3\" >0.052547</td>\n",
       "                        <td id=\"T_f3d56442_4c0a_11ec_afed_ccf9e49b12c9row1_col4\" class=\"data row1 col4\" >0.011638</td>\n",
       "            </tr>\n",
       "            <tr>\n",
       "                        <th id=\"T_f3d56442_4c0a_11ec_afed_ccf9e49b12c9level0_row2\" class=\"row_heading level0 row2\" >publish_date_day</th>\n",
       "                        <td id=\"T_f3d56442_4c0a_11ec_afed_ccf9e49b12c9row2_col0\" class=\"data row2 col0\" >0.051351</td>\n",
       "                        <td id=\"T_f3d56442_4c0a_11ec_afed_ccf9e49b12c9row2_col1\" class=\"data row2 col1\" >0.017941</td>\n",
       "                        <td id=\"T_f3d56442_4c0a_11ec_afed_ccf9e49b12c9row2_col2\" class=\"data row2 col2\" >1.000000</td>\n",
       "                        <td id=\"T_f3d56442_4c0a_11ec_afed_ccf9e49b12c9row2_col3\" class=\"data row2 col3\" >-0.022798</td>\n",
       "                        <td id=\"T_f3d56442_4c0a_11ec_afed_ccf9e49b12c9row2_col4\" class=\"data row2 col4\" >-0.025258</td>\n",
       "            </tr>\n",
       "            <tr>\n",
       "                        <th id=\"T_f3d56442_4c0a_11ec_afed_ccf9e49b12c9level0_row3\" class=\"row_heading level0 row3\" >publish_date_month</th>\n",
       "                        <td id=\"T_f3d56442_4c0a_11ec_afed_ccf9e49b12c9row3_col0\" class=\"data row3 col0\" >0.145435</td>\n",
       "                        <td id=\"T_f3d56442_4c0a_11ec_afed_ccf9e49b12c9row3_col1\" class=\"data row3 col1\" >0.052547</td>\n",
       "                        <td id=\"T_f3d56442_4c0a_11ec_afed_ccf9e49b12c9row3_col2\" class=\"data row3 col2\" >-0.022798</td>\n",
       "                        <td id=\"T_f3d56442_4c0a_11ec_afed_ccf9e49b12c9row3_col3\" class=\"data row3 col3\" >1.000000</td>\n",
       "                        <td id=\"T_f3d56442_4c0a_11ec_afed_ccf9e49b12c9row3_col4\" class=\"data row3 col4\" >-0.057669</td>\n",
       "            </tr>\n",
       "            <tr>\n",
       "                        <th id=\"T_f3d56442_4c0a_11ec_afed_ccf9e49b12c9level0_row4\" class=\"row_heading level0 row4\" >publish_date_year</th>\n",
       "                        <td id=\"T_f3d56442_4c0a_11ec_afed_ccf9e49b12c9row4_col0\" class=\"data row4 col0\" >0.942533</td>\n",
       "                        <td id=\"T_f3d56442_4c0a_11ec_afed_ccf9e49b12c9row4_col1\" class=\"data row4 col1\" >0.011638</td>\n",
       "                        <td id=\"T_f3d56442_4c0a_11ec_afed_ccf9e49b12c9row4_col2\" class=\"data row4 col2\" >-0.025258</td>\n",
       "                        <td id=\"T_f3d56442_4c0a_11ec_afed_ccf9e49b12c9row4_col3\" class=\"data row4 col3\" >-0.057669</td>\n",
       "                        <td id=\"T_f3d56442_4c0a_11ec_afed_ccf9e49b12c9row4_col4\" class=\"data row4 col4\" >1.000000</td>\n",
       "            </tr>\n",
       "    </tbody></table>"
      ],
      "text/plain": [
       "<pandas.io.formats.style.Styler at 0x227747e5970>"
      ]
     },
     "execution_count": 57,
     "metadata": {},
     "output_type": "execute_result"
    }
   ],
   "source": [
    "# Wanted to see correlation \n",
    "corr = perth_fuel.corr()\n",
    "corr.style.background_gradient(cmap='coolwarm')"
   ]
  },
  {
   "cell_type": "code",
   "execution_count": 179,
   "metadata": {},
   "outputs": [],
   "source": [
    "# Time to dive up the data into x and y \n",
    "X_df = perth_fuel.drop(columns=['index','product_price'])\n",
    "y = perth_fuel['product_price'].values"
   ]
  },
  {
   "cell_type": "code",
   "execution_count": 180,
   "metadata": {},
   "outputs": [
    {
     "name": "stdout",
     "output_type": "stream",
     "text": [
      "(554332, 3)\n",
      "(138584, 3)\n",
      "(554332,)\n",
      "(138584,)\n"
     ]
    }
   ],
   "source": [
    "# split into train and test for both x and y \n",
    "X_train, X_test, y_train, y_test = train_test_split(\n",
    "    X_df, y, test_size=0.2, random_state=197\n",
    ")\n",
    "\n",
    "# print to see the shape of each. \n",
    "print(X_train.shape)\n",
    "print(X_test.shape)\n",
    "print(y_train.shape)\n",
    "print(y_test.shape)"
   ]
  },
  {
   "cell_type": "markdown",
   "metadata": {},
   "source": [
    "Model 1 Linear Regression \n",
    "Model 2 Linear LinearSVR\n",
    "Model 3 Linear LGBMRegressor"
   ]
  },
  {
   "cell_type": "code",
   "execution_count": 181,
   "metadata": {},
   "outputs": [],
   "source": [
    "def build_evaluate_fn(X_train, y_train, X_test, y_test):\n",
    "    def evaluate(model):\n",
    "        train_score = model.score(X_train, y_train)\n",
    "        test_score = model.score(X_test, y_test)\n",
    "\n",
    "        print(\"Train Score:\", train_score)\n",
    "        print(\"Test Score:\", test_score)\n",
    "        print()\n",
    "        \n",
    "        compute_mse(model, X_train, y_train, 'training set')\n",
    "        compute_mse(model, X_test, y_test, 'test set')\n",
    "    \n",
    "    return evaluate\n",
    "\n",
    "evaluate = build_evaluate_fn(X_train, y_train, X_test, y_test)"
   ]
  },
  {
   "cell_type": "code",
   "execution_count": 182,
   "metadata": {},
   "outputs": [
    {
     "name": "stdout",
     "output_type": "stream",
     "text": [
      "Train Score: 0.003298101455164959\n",
      "Test Score: 0.003596915033935\n",
      "\n",
      "Mean Squared Error for training set: 341.64701731031835\n",
      "Mean Squared Error for test set: 340.06407443840635\n"
     ]
    }
   ],
   "source": [
    "# linear \n",
    "# Define the model. \n",
    "model = LinearRegression()\n",
    "# Fir the model to the train data. \n",
    "model.fit(X_train, y_train)\n",
    "# Get some predictions \n",
    "y_liner = model.predict(X_test)\n",
    "# Get a evaluation of the model. \n",
    "evaluate(model)"
   ]
  },
  {
   "cell_type": "code",
   "execution_count": 183,
   "metadata": {},
   "outputs": [
    {
     "name": "stdout",
     "output_type": "stream",
     "text": [
      "Train Score: 0.001354521999779812\n",
      "Test Score: 0.0015997673595691264\n",
      "\n",
      "Mean Squared Error for training set: 342.3132326800366\n",
      "Mean Squared Error for test set: 340.74568430658854\n"
     ]
    }
   ],
   "source": [
    "# Linear SVR \n",
    "# Define the model. \n",
    "svm = LinearSVR()\n",
    "# Fit the model to the train data. \n",
    "svm.fit(X_train, y_train)\n",
    "# Get some prediction. \n",
    "y_svm = svm.predict(X_test)\n",
    "# See how she did. \n",
    "evaluate(svm)"
   ]
  },
  {
   "cell_type": "code",
   "execution_count": 184,
   "metadata": {},
   "outputs": [
    {
     "name": "stdout",
     "output_type": "stream",
     "text": [
      "Train Score: 0.6837293946536747\n",
      "Test Score: 0.6836829830775832\n",
      "\n",
      "Mean Squared Error for training set: 108.41045766768978\n",
      "Mean Squared Error for test set: 107.95636345556164\n"
     ]
    }
   ],
   "source": [
    "# Linear Regressor \n",
    "# define the model and n estmatores \n",
    "gbr = LGBMRegressor(n_estimators=1000)\n",
    "# Fit the train data. \n",
    "gbr.fit(X_train, y_train)\n",
    "# get some predictions. \n",
    "y_gbr = gbr.predict(X_test)\n",
    "# How good was the model check ??? \n",
    "evaluate(gbr)"
   ]
  },
  {
   "cell_type": "markdown",
   "metadata": {},
   "source": [
    "Model 4 RandomForestRegressor"
   ]
  },
  {
   "cell_type": "code",
   "execution_count": 185,
   "metadata": {},
   "outputs": [],
   "source": [
    "# call sklearn standardscaler \n",
    "from sklearn.preprocessing import StandardScaler\n",
    "# tell the scaler mean = false. \n",
    "sc = StandardScaler(with_mean=False)\n",
    "# tranform the x train and x test. \n",
    "X_train = sc.fit_transform(X_train)\n",
    "X_test = sc.transform(X_test)"
   ]
  },
  {
   "cell_type": "code",
   "execution_count": 186,
   "metadata": {},
   "outputs": [],
   "source": [
    "# call sklearn model.\n",
    "from sklearn.ensemble import RandomForestRegressor\n",
    "# Set the n estimators 500. \n",
    "regressor = RandomForestRegressor(n_estimators=500, random_state=0)\n",
    "# fit the train data to the model \n",
    "regressor.fit(X_train, y_train)\n",
    "# get some predctions. \n",
    "y_regges = regressor.predict(X_test)"
   ]
  },
  {
   "cell_type": "code",
   "execution_count": 187,
   "metadata": {},
   "outputs": [
    {
     "name": "stdout",
     "output_type": "stream",
     "text": [
      "Train Score: -0.45788511782113095\n",
      "Test Score: -0.45786283413837103\n",
      "\n",
      "Mean Squared Error for training set: 499.7302631929179\n",
      "Mean Squared Error for test set: 497.55644360163905\n"
     ]
    }
   ],
   "source": [
    "# Check model perf\n",
    "evaluate(regressor)"
   ]
  },
  {
   "cell_type": "code",
   "execution_count": 201,
   "metadata": {},
   "outputs": [
    {
     "data": {
      "text/html": [
       "<div>\n",
       "<style scoped>\n",
       "    .dataframe tbody tr th:only-of-type {\n",
       "        vertical-align: middle;\n",
       "    }\n",
       "\n",
       "    .dataframe tbody tr th {\n",
       "        vertical-align: top;\n",
       "    }\n",
       "\n",
       "    .dataframe thead th {\n",
       "        text-align: right;\n",
       "    }\n",
       "</style>\n",
       "<table border=\"1\" class=\"dataframe\">\n",
       "  <thead>\n",
       "    <tr style=\"text-align: right;\">\n",
       "      <th></th>\n",
       "      <th>Actual</th>\n",
       "      <th>LineearReg</th>\n",
       "      <th>LGBMRegressor</th>\n",
       "      <th>LinearSVR</th>\n",
       "      <th>RandomForestRegressor</th>\n",
       "    </tr>\n",
       "  </thead>\n",
       "  <tbody>\n",
       "    <tr>\n",
       "      <th>0</th>\n",
       "      <td>125.9</td>\n",
       "      <td>136.708178</td>\n",
       "      <td>129.516196</td>\n",
       "      <td>135.918208</td>\n",
       "      <td>129.608344</td>\n",
       "    </tr>\n",
       "    <tr>\n",
       "      <th>1</th>\n",
       "      <td>139.3</td>\n",
       "      <td>134.565949</td>\n",
       "      <td>142.312275</td>\n",
       "      <td>134.114518</td>\n",
       "      <td>142.329934</td>\n",
       "    </tr>\n",
       "    <tr>\n",
       "      <th>2</th>\n",
       "      <td>159.9</td>\n",
       "      <td>137.544522</td>\n",
       "      <td>148.200638</td>\n",
       "      <td>136.483892</td>\n",
       "      <td>148.260678</td>\n",
       "    </tr>\n",
       "    <tr>\n",
       "      <th>3</th>\n",
       "      <td>155.7</td>\n",
       "      <td>137.614365</td>\n",
       "      <td>159.843549</td>\n",
       "      <td>136.525210</td>\n",
       "      <td>160.169924</td>\n",
       "    </tr>\n",
       "    <tr>\n",
       "      <th>4</th>\n",
       "      <td>160.9</td>\n",
       "      <td>137.821910</td>\n",
       "      <td>148.506935</td>\n",
       "      <td>137.269002</td>\n",
       "      <td>148.483170</td>\n",
       "    </tr>\n",
       "    <tr>\n",
       "      <th>...</th>\n",
       "      <td>...</td>\n",
       "      <td>...</td>\n",
       "      <td>...</td>\n",
       "      <td>...</td>\n",
       "      <td>...</td>\n",
       "    </tr>\n",
       "    <tr>\n",
       "      <th>138579</th>\n",
       "      <td>169.9</td>\n",
       "      <td>137.453746</td>\n",
       "      <td>170.093848</td>\n",
       "      <td>136.378472</td>\n",
       "      <td>170.227033</td>\n",
       "    </tr>\n",
       "    <tr>\n",
       "      <th>138580</th>\n",
       "      <td>152.8</td>\n",
       "      <td>135.212121</td>\n",
       "      <td>153.985927</td>\n",
       "      <td>134.173151</td>\n",
       "      <td>154.085692</td>\n",
       "    </tr>\n",
       "    <tr>\n",
       "      <th>138581</th>\n",
       "      <td>113.9</td>\n",
       "      <td>135.362274</td>\n",
       "      <td>118.301553</td>\n",
       "      <td>134.287838</td>\n",
       "      <td>118.306675</td>\n",
       "    </tr>\n",
       "    <tr>\n",
       "      <th>138582</th>\n",
       "      <td>155.9</td>\n",
       "      <td>135.370892</td>\n",
       "      <td>145.844785</td>\n",
       "      <td>134.584049</td>\n",
       "      <td>146.004528</td>\n",
       "    </tr>\n",
       "    <tr>\n",
       "      <th>138583</th>\n",
       "      <td>138.7</td>\n",
       "      <td>137.472967</td>\n",
       "      <td>143.392861</td>\n",
       "      <td>136.351054</td>\n",
       "      <td>143.415409</td>\n",
       "    </tr>\n",
       "  </tbody>\n",
       "</table>\n",
       "<p>138584 rows × 5 columns</p>\n",
       "</div>"
      ],
      "text/plain": [
       "        Actual  LineearReg  LGBMRegressor   LinearSVR  RandomForestRegressor\n",
       "0        125.9  136.708178     129.516196  135.918208             129.608344\n",
       "1        139.3  134.565949     142.312275  134.114518             142.329934\n",
       "2        159.9  137.544522     148.200638  136.483892             148.260678\n",
       "3        155.7  137.614365     159.843549  136.525210             160.169924\n",
       "4        160.9  137.821910     148.506935  137.269002             148.483170\n",
       "...        ...         ...            ...         ...                    ...\n",
       "138579   169.9  137.453746     170.093848  136.378472             170.227033\n",
       "138580   152.8  135.212121     153.985927  134.173151             154.085692\n",
       "138581   113.9  135.362274     118.301553  134.287838             118.306675\n",
       "138582   155.9  135.370892     145.844785  134.584049             146.004528\n",
       "138583   138.7  137.472967     143.392861  136.351054             143.415409\n",
       "\n",
       "[138584 rows x 5 columns]"
      ]
     },
     "execution_count": 201,
     "metadata": {},
     "output_type": "execute_result"
    }
   ],
   "source": [
    "# Grab all the data into a dataframe. \n",
    "predictions = pd.DataFrame({'Actual': y_test,'LineearReg': y_liner,'LGBMRegressor':y_gbr,'LinearSVR': y_svm, 'RandomForestRegressor': y_regges})\n",
    "predictions"
   ]
  },
  {
   "cell_type": "code",
   "execution_count": 199,
   "metadata": {},
   "outputs": [
    {
     "data": {
      "text/plain": [
       "Actual                   float64\n",
       "LineearReg               float64\n",
       "LGBMRegressor            float64\n",
       "LinearSVR                float64\n",
       "RandomForestRegressor    float64\n",
       "dtype: object"
      ]
     },
     "execution_count": 199,
     "metadata": {},
     "output_type": "execute_result"
    }
   ],
   "source": [
    "predictions.dtypes"
   ]
  },
  {
   "cell_type": "code",
   "execution_count": 200,
   "metadata": {},
   "outputs": [],
   "source": [
    "predictions.to_csv('ml.csv')"
   ]
  },
  {
   "cell_type": "code",
   "execution_count": 189,
   "metadata": {},
   "outputs": [],
   "source": [
    "from sklearn.preprocessing import StandardScaler\n",
    "\n",
    "test = sc.inverse_transform(X_test)"
   ]
  },
  {
   "cell_type": "code",
   "execution_count": 190,
   "metadata": {},
   "outputs": [],
   "source": [
    "test2 = pd.DataFrame(test,columns=['day', 'month', 'year'])"
   ]
  },
  {
   "cell_type": "code",
   "execution_count": 191,
   "metadata": {},
   "outputs": [
    {
     "data": {
      "text/html": [
       "<div>\n",
       "<style scoped>\n",
       "    .dataframe tbody tr th:only-of-type {\n",
       "        vertical-align: middle;\n",
       "    }\n",
       "\n",
       "    .dataframe tbody tr th {\n",
       "        vertical-align: top;\n",
       "    }\n",
       "\n",
       "    .dataframe thead th {\n",
       "        text-align: right;\n",
       "    }\n",
       "</style>\n",
       "<table border=\"1\" class=\"dataframe\">\n",
       "  <thead>\n",
       "    <tr style=\"text-align: right;\">\n",
       "      <th></th>\n",
       "      <th>day</th>\n",
       "      <th>month</th>\n",
       "      <th>year</th>\n",
       "    </tr>\n",
       "  </thead>\n",
       "  <tbody>\n",
       "    <tr>\n",
       "      <th>0</th>\n",
       "      <td>16.0</td>\n",
       "      <td>7.0</td>\n",
       "      <td>2020.0</td>\n",
       "    </tr>\n",
       "    <tr>\n",
       "      <th>1</th>\n",
       "      <td>8.0</td>\n",
       "      <td>2.0</td>\n",
       "      <td>2019.0</td>\n",
       "    </tr>\n",
       "    <tr>\n",
       "      <th>2</th>\n",
       "      <td>6.0</td>\n",
       "      <td>10.0</td>\n",
       "      <td>2021.0</td>\n",
       "    </tr>\n",
       "    <tr>\n",
       "      <th>3</th>\n",
       "      <td>15.0</td>\n",
       "      <td>9.0</td>\n",
       "      <td>2021.0</td>\n",
       "    </tr>\n",
       "    <tr>\n",
       "      <th>4</th>\n",
       "      <td>31.0</td>\n",
       "      <td>10.0</td>\n",
       "      <td>2019.0</td>\n",
       "    </tr>\n",
       "    <tr>\n",
       "      <th>...</th>\n",
       "      <td>...</td>\n",
       "      <td>...</td>\n",
       "      <td>...</td>\n",
       "    </tr>\n",
       "    <tr>\n",
       "      <th>138579</th>\n",
       "      <td>11.0</td>\n",
       "      <td>9.0</td>\n",
       "      <td>2021.0</td>\n",
       "    </tr>\n",
       "    <tr>\n",
       "      <th>138580</th>\n",
       "      <td>6.0</td>\n",
       "      <td>2.0</td>\n",
       "      <td>2021.0</td>\n",
       "    </tr>\n",
       "    <tr>\n",
       "      <th>138581</th>\n",
       "      <td>17.0</td>\n",
       "      <td>1.0</td>\n",
       "      <td>2021.0</td>\n",
       "    </tr>\n",
       "    <tr>\n",
       "      <th>138582</th>\n",
       "      <td>19.0</td>\n",
       "      <td>2.0</td>\n",
       "      <td>2020.0</td>\n",
       "    </tr>\n",
       "    <tr>\n",
       "      <th>138583</th>\n",
       "      <td>26.0</td>\n",
       "      <td>7.0</td>\n",
       "      <td>2021.0</td>\n",
       "    </tr>\n",
       "  </tbody>\n",
       "</table>\n",
       "<p>138584 rows × 3 columns</p>\n",
       "</div>"
      ],
      "text/plain": [
       "         day  month    year\n",
       "0       16.0    7.0  2020.0\n",
       "1        8.0    2.0  2019.0\n",
       "2        6.0   10.0  2021.0\n",
       "3       15.0    9.0  2021.0\n",
       "4       31.0   10.0  2019.0\n",
       "...      ...    ...     ...\n",
       "138579  11.0    9.0  2021.0\n",
       "138580   6.0    2.0  2021.0\n",
       "138581  17.0    1.0  2021.0\n",
       "138582  19.0    2.0  2020.0\n",
       "138583  26.0    7.0  2021.0\n",
       "\n",
       "[138584 rows x 3 columns]"
      ]
     },
     "execution_count": 191,
     "metadata": {},
     "output_type": "execute_result"
    }
   ],
   "source": [
    "test2"
   ]
  },
  {
   "cell_type": "code",
   "execution_count": 193,
   "metadata": {},
   "outputs": [],
   "source": [
    "test2['day'] = test2['day'].astype(str).apply(lambda x: x.replace('.0',''))\n",
    "test2['month'] = test2['month'].astype(str).apply(lambda x: x.replace('.0',''))\n",
    "test2['year'] = test2['year'].astype(str).apply(lambda x: x.replace('.0',''))"
   ]
  },
  {
   "cell_type": "code",
   "execution_count": 196,
   "metadata": {},
   "outputs": [],
   "source": [
    "example = pd.concat([test2, predictions], axis=1, join=\"inner\")"
   ]
  },
  {
   "cell_type": "code",
   "execution_count": 197,
   "metadata": {},
   "outputs": [],
   "source": [
    "example.to_csv('example.csv')"
   ]
  }
 ],
 "metadata": {
  "interpreter": {
   "hash": "44f552b7dcb52bdbe1465ff40af8423e5e341aff9e1890574e0400d00cd728be"
  },
  "kernelspec": {
   "display_name": "Python 3.8.5 64-bit ('base': conda)",
   "language": "python",
   "name": "python3"
  },
  "language_info": {
   "codemirror_mode": {
    "name": "ipython",
    "version": 3
   },
   "file_extension": ".py",
   "mimetype": "text/x-python",
   "name": "python",
   "nbconvert_exporter": "python",
   "pygments_lexer": "ipython3",
   "version": "3.8.5"
  },
  "orig_nbformat": 4
 },
 "nbformat": 4,
 "nbformat_minor": 2
}
