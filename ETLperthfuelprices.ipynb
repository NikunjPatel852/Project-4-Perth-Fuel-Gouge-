{
 "cells": [
  {
   "cell_type": "code",
   "execution_count": 10,
   "metadata": {},
   "outputs": [],
   "source": [
    "# Import in needed libs \n",
    "import pandas as pd \n",
    "import feedparser"
   ]
  },
  {
   "cell_type": "code",
   "execution_count": 11,
   "metadata": {},
   "outputs": [
    {
     "data": {
      "text/plain": [
       "Timestamp('2021-11-23 07:55:25.440146')"
      ]
     },
     "execution_count": 11,
     "metadata": {},
     "output_type": "execute_result"
    }
   ],
   "source": [
    "# To get latest data from fuel wacth create a variable to store todays date. \n",
    "todays_date = pd.to_datetime(\"now\")\n",
    "todays_date"
   ]
  },
  {
   "cell_type": "markdown",
   "metadata": {},
   "source": [
    "Bottom Two cells can be run to (cell 1) bulk download and (cell 2) download new updated data.  "
   ]
  },
  {
   "cell_type": "code",
   "execution_count": 12,
   "metadata": {},
   "outputs": [],
   "source": [
    "# # Run this block to bulk downlaod \n",
    "# # create range of monthly dates\n",
    "# download_dates = pd.date_range(start='01-01-2002',end=todays_date,freq='MS')\n",
    "\n",
    "# #URL from Chrome DevTools Console\n",
    "# base_url = (\"https://warsydprdstafuelwatch.blob.core.windows.net/historical-reports/FuelWatchRetail-{}.csv\") \n",
    "\n",
    "# #  create list of remote URL from base URL\n",
    "# list_of_url = [base_url.format(date.strftime(\"%m-%Y\")) for date in download_dates]\n",
    "# #print(list_of_url)\n",
    "\n",
    "# # download and combine multiple files into one DataFrame\n",
    "# df_bulk = pd.concat((pd.read_csv(url) for url in list_of_url))"
   ]
  },
  {
   "cell_type": "code",
   "execution_count": 8,
   "metadata": {},
   "outputs": [
    {
     "data": {
      "text/html": [
       "<div>\n",
       "<style scoped>\n",
       "    .dataframe tbody tr th:only-of-type {\n",
       "        vertical-align: middle;\n",
       "    }\n",
       "\n",
       "    .dataframe tbody tr th {\n",
       "        vertical-align: top;\n",
       "    }\n",
       "\n",
       "    .dataframe thead th {\n",
       "        text-align: right;\n",
       "    }\n",
       "</style>\n",
       "<table border=\"1\" class=\"dataframe\">\n",
       "  <thead>\n",
       "    <tr style=\"text-align: right;\">\n",
       "      <th></th>\n",
       "      <th>PUBLISH_DATE</th>\n",
       "      <th>TRADING_NAME</th>\n",
       "      <th>BRAND_DESCRIPTION</th>\n",
       "      <th>PRODUCT_DESCRIPTION</th>\n",
       "      <th>PRODUCT_PRICE</th>\n",
       "      <th>ADDRESS</th>\n",
       "      <th>LOCATION</th>\n",
       "      <th>POSTCODE</th>\n",
       "      <th>AREA_DESCRIPTION</th>\n",
       "      <th>REGION_DESCRIPTION</th>\n",
       "      <th>Unnamed: 10</th>\n",
       "    </tr>\n",
       "  </thead>\n",
       "  <tbody>\n",
       "    <tr>\n",
       "      <th>0</th>\n",
       "      <td>01/02/2021</td>\n",
       "      <td>53 Mile Roadhouse</td>\n",
       "      <td>United</td>\n",
       "      <td>ULP</td>\n",
       "      <td>116.5</td>\n",
       "      <td>31 South Western Hwy</td>\n",
       "      <td>PINJARRA</td>\n",
       "      <td>6208</td>\n",
       "      <td>Murray</td>\n",
       "      <td>Peel</td>\n",
       "      <td>NaN</td>\n",
       "    </tr>\n",
       "    <tr>\n",
       "      <th>1</th>\n",
       "      <td>01/02/2021</td>\n",
       "      <td>53 Mile Roadhouse</td>\n",
       "      <td>United</td>\n",
       "      <td>Diesel</td>\n",
       "      <td>115.5</td>\n",
       "      <td>31 South Western Hwy</td>\n",
       "      <td>PINJARRA</td>\n",
       "      <td>6208</td>\n",
       "      <td>Murray</td>\n",
       "      <td>Peel</td>\n",
       "      <td>NaN</td>\n",
       "    </tr>\n",
       "    <tr>\n",
       "      <th>2</th>\n",
       "      <td>01/02/2021</td>\n",
       "      <td>53 Mile Roadhouse</td>\n",
       "      <td>United</td>\n",
       "      <td>98 RON</td>\n",
       "      <td>131.5</td>\n",
       "      <td>31 South Western Hwy</td>\n",
       "      <td>PINJARRA</td>\n",
       "      <td>6208</td>\n",
       "      <td>Murray</td>\n",
       "      <td>Peel</td>\n",
       "      <td>NaN</td>\n",
       "    </tr>\n",
       "    <tr>\n",
       "      <th>3</th>\n",
       "      <td>01/02/2021</td>\n",
       "      <td>7-Eleven Ascot</td>\n",
       "      <td>7-Eleven</td>\n",
       "      <td>ULP</td>\n",
       "      <td>112.9</td>\n",
       "      <td>194 Great Eastern Hwy</td>\n",
       "      <td>ASCOT</td>\n",
       "      <td>6104</td>\n",
       "      <td>South of River</td>\n",
       "      <td>Metro</td>\n",
       "      <td>NaN</td>\n",
       "    </tr>\n",
       "    <tr>\n",
       "      <th>4</th>\n",
       "      <td>01/02/2021</td>\n",
       "      <td>7-Eleven Ascot</td>\n",
       "      <td>7-Eleven</td>\n",
       "      <td>Brand Diesel</td>\n",
       "      <td>123.9</td>\n",
       "      <td>194 Great Eastern Hwy</td>\n",
       "      <td>ASCOT</td>\n",
       "      <td>6104</td>\n",
       "      <td>South of River</td>\n",
       "      <td>Metro</td>\n",
       "      <td>NaN</td>\n",
       "    </tr>\n",
       "  </tbody>\n",
       "</table>\n",
       "</div>"
      ],
      "text/plain": [
       "  PUBLISH_DATE       TRADING_NAME BRAND_DESCRIPTION PRODUCT_DESCRIPTION  \\\n",
       "0   01/02/2021  53 Mile Roadhouse            United                 ULP   \n",
       "1   01/02/2021  53 Mile Roadhouse            United              Diesel   \n",
       "2   01/02/2021  53 Mile Roadhouse            United              98 RON   \n",
       "3   01/02/2021     7-Eleven Ascot          7-Eleven                 ULP   \n",
       "4   01/02/2021     7-Eleven Ascot          7-Eleven        Brand Diesel   \n",
       "\n",
       "   PRODUCT_PRICE                ADDRESS  LOCATION  POSTCODE AREA_DESCRIPTION  \\\n",
       "0          116.5   31 South Western Hwy  PINJARRA      6208           Murray   \n",
       "1          115.5   31 South Western Hwy  PINJARRA      6208           Murray   \n",
       "2          131.5   31 South Western Hwy  PINJARRA      6208           Murray   \n",
       "3          112.9  194 Great Eastern Hwy     ASCOT      6104   South of River   \n",
       "4          123.9  194 Great Eastern Hwy     ASCOT      6104   South of River   \n",
       "\n",
       "  REGION_DESCRIPTION  Unnamed: 10  \n",
       "0               Peel          NaN  \n",
       "1               Peel          NaN  \n",
       "2               Peel          NaN  \n",
       "3              Metro          NaN  \n",
       "4              Metro          NaN  "
      ]
     },
     "execution_count": 8,
     "metadata": {},
     "output_type": "execute_result"
    }
   ],
   "source": [
    "# Run this block to download new updated csvs \n",
    "# create range of monthly dates\n",
    "download_dates = pd.date_range(start='01-10-2021',end=todays_date,freq='MS')\n",
    "\n",
    "#URL from Chrome DevTools Console\n",
    "base_url = (\"https://warsydprdstafuelwatch.blob.core.windows.net/historical-reports/FuelWatchRetail-{}.csv\") \n",
    "\n",
    "#  create list of remote URL from base URL\n",
    "list_of_url = [base_url.format(date.strftime(\"%m-%Y\")) for date in download_dates]\n",
    "#print(list_of_url)\n",
    "\n",
    "# download and combine multiple files into one DataFrame\n",
    "df_bulk = pd.concat((pd.read_csv(url) for url in list_of_url))\n",
    "\n",
    "df_bulk.head()"
   ]
  },
  {
   "cell_type": "code",
   "execution_count": 9,
   "metadata": {},
   "outputs": [],
   "source": [
    "# Noticed a extra 'Unnamed: 10' column that had no values so dropped it. \n",
    "perth_fuel = df_bulk.drop(columns='Unnamed: 10')"
   ]
  },
  {
   "cell_type": "markdown",
   "metadata": {},
   "source": [
    "•\tNoticed all headers where in capital letters for easier references dropped them down to lower case. \n",
    "\n",
    "•\tAlso for easier references (Eg searching by year, month, day) decided to split the ‘publish date’ column into year , month and day. \n",
    "\n",
    "•\tDropped the ‘publish date’ it’s not required after the split "
   ]
  },
  {
   "cell_type": "code",
   "execution_count": 13,
   "metadata": {},
   "outputs": [
    {
     "data": {
      "text/html": [
       "<div>\n",
       "<style scoped>\n",
       "    .dataframe tbody tr th:only-of-type {\n",
       "        vertical-align: middle;\n",
       "    }\n",
       "\n",
       "    .dataframe tbody tr th {\n",
       "        vertical-align: top;\n",
       "    }\n",
       "\n",
       "    .dataframe thead th {\n",
       "        text-align: right;\n",
       "    }\n",
       "</style>\n",
       "<table border=\"1\" class=\"dataframe\">\n",
       "  <thead>\n",
       "    <tr style=\"text-align: right;\">\n",
       "      <th></th>\n",
       "      <th>trading_name</th>\n",
       "      <th>brand_description</th>\n",
       "      <th>product_description</th>\n",
       "      <th>product_price</th>\n",
       "      <th>address</th>\n",
       "      <th>location</th>\n",
       "      <th>postcode</th>\n",
       "      <th>area_description</th>\n",
       "      <th>region_description</th>\n",
       "      <th>day</th>\n",
       "      <th>month</th>\n",
       "      <th>year</th>\n",
       "    </tr>\n",
       "  </thead>\n",
       "  <tbody>\n",
       "    <tr>\n",
       "      <th>0</th>\n",
       "      <td>53 Mile Roadhouse</td>\n",
       "      <td>United</td>\n",
       "      <td>ULP</td>\n",
       "      <td>116.5</td>\n",
       "      <td>31 South Western Hwy</td>\n",
       "      <td>PINJARRA</td>\n",
       "      <td>6208</td>\n",
       "      <td>Murray</td>\n",
       "      <td>Peel</td>\n",
       "      <td>01</td>\n",
       "      <td>02</td>\n",
       "      <td>2021</td>\n",
       "    </tr>\n",
       "    <tr>\n",
       "      <th>1</th>\n",
       "      <td>53 Mile Roadhouse</td>\n",
       "      <td>United</td>\n",
       "      <td>Diesel</td>\n",
       "      <td>115.5</td>\n",
       "      <td>31 South Western Hwy</td>\n",
       "      <td>PINJARRA</td>\n",
       "      <td>6208</td>\n",
       "      <td>Murray</td>\n",
       "      <td>Peel</td>\n",
       "      <td>01</td>\n",
       "      <td>02</td>\n",
       "      <td>2021</td>\n",
       "    </tr>\n",
       "    <tr>\n",
       "      <th>2</th>\n",
       "      <td>53 Mile Roadhouse</td>\n",
       "      <td>United</td>\n",
       "      <td>98 RON</td>\n",
       "      <td>131.5</td>\n",
       "      <td>31 South Western Hwy</td>\n",
       "      <td>PINJARRA</td>\n",
       "      <td>6208</td>\n",
       "      <td>Murray</td>\n",
       "      <td>Peel</td>\n",
       "      <td>01</td>\n",
       "      <td>02</td>\n",
       "      <td>2021</td>\n",
       "    </tr>\n",
       "    <tr>\n",
       "      <th>3</th>\n",
       "      <td>7-Eleven Ascot</td>\n",
       "      <td>7-Eleven</td>\n",
       "      <td>ULP</td>\n",
       "      <td>112.9</td>\n",
       "      <td>194 Great Eastern Hwy</td>\n",
       "      <td>ASCOT</td>\n",
       "      <td>6104</td>\n",
       "      <td>South of River</td>\n",
       "      <td>Metro</td>\n",
       "      <td>01</td>\n",
       "      <td>02</td>\n",
       "      <td>2021</td>\n",
       "    </tr>\n",
       "    <tr>\n",
       "      <th>4</th>\n",
       "      <td>7-Eleven Ascot</td>\n",
       "      <td>7-Eleven</td>\n",
       "      <td>Brand Diesel</td>\n",
       "      <td>123.9</td>\n",
       "      <td>194 Great Eastern Hwy</td>\n",
       "      <td>ASCOT</td>\n",
       "      <td>6104</td>\n",
       "      <td>South of River</td>\n",
       "      <td>Metro</td>\n",
       "      <td>01</td>\n",
       "      <td>02</td>\n",
       "      <td>2021</td>\n",
       "    </tr>\n",
       "  </tbody>\n",
       "</table>\n",
       "</div>"
      ],
      "text/plain": [
       "        trading_name brand_description product_description  product_price  \\\n",
       "0  53 Mile Roadhouse            United                 ULP          116.5   \n",
       "1  53 Mile Roadhouse            United              Diesel          115.5   \n",
       "2  53 Mile Roadhouse            United              98 RON          131.5   \n",
       "3     7-Eleven Ascot          7-Eleven                 ULP          112.9   \n",
       "4     7-Eleven Ascot          7-Eleven        Brand Diesel          123.9   \n",
       "\n",
       "                 address  location  postcode area_description  \\\n",
       "0   31 South Western Hwy  PINJARRA      6208           Murray   \n",
       "1   31 South Western Hwy  PINJARRA      6208           Murray   \n",
       "2   31 South Western Hwy  PINJARRA      6208           Murray   \n",
       "3  194 Great Eastern Hwy     ASCOT      6104   South of River   \n",
       "4  194 Great Eastern Hwy     ASCOT      6104   South of River   \n",
       "\n",
       "  region_description day month  year  \n",
       "0               Peel  01    02  2021  \n",
       "1               Peel  01    02  2021  \n",
       "2               Peel  01    02  2021  \n",
       "3              Metro  01    02  2021  \n",
       "4              Metro  01    02  2021  "
      ]
     },
     "execution_count": 13,
     "metadata": {},
     "output_type": "execute_result"
    }
   ],
   "source": [
    "# Drop the headers to lower case. \n",
    "perth_fuel.columns = [str(x).lower() for x in perth_fuel.columns]\n",
    "\n",
    "# Split the 'publish_date' into 3 columns. \n",
    "perth_fuel[['day', 'month', 'year']] = perth_fuel['publish_date'].str.split('/', expand = True)\n",
    "\n",
    "# Drop the 'publish_date' column.\n",
    "perth_fuel = perth_fuel.drop(columns='publish_date')\n",
    "\n",
    "perth_fuel.head()"
   ]
  },
  {
   "cell_type": "markdown",
   "metadata": {},
   "source": [
    "•\tNoticed that the new date columns are located at the end of the data frame move them to front. "
   ]
  },
  {
   "cell_type": "code",
   "execution_count": 14,
   "metadata": {},
   "outputs": [
    {
     "data": {
      "text/html": [
       "<div>\n",
       "<style scoped>\n",
       "    .dataframe tbody tr th:only-of-type {\n",
       "        vertical-align: middle;\n",
       "    }\n",
       "\n",
       "    .dataframe tbody tr th {\n",
       "        vertical-align: top;\n",
       "    }\n",
       "\n",
       "    .dataframe thead th {\n",
       "        text-align: right;\n",
       "    }\n",
       "</style>\n",
       "<table border=\"1\" class=\"dataframe\">\n",
       "  <thead>\n",
       "    <tr style=\"text-align: right;\">\n",
       "      <th></th>\n",
       "      <th>year</th>\n",
       "      <th>month</th>\n",
       "      <th>day</th>\n",
       "      <th>trading_name</th>\n",
       "      <th>brand_description</th>\n",
       "      <th>product_description</th>\n",
       "      <th>product_price</th>\n",
       "      <th>address</th>\n",
       "      <th>location</th>\n",
       "      <th>postcode</th>\n",
       "      <th>area_description</th>\n",
       "      <th>region_description</th>\n",
       "    </tr>\n",
       "  </thead>\n",
       "  <tbody>\n",
       "    <tr>\n",
       "      <th>0</th>\n",
       "      <td>2021</td>\n",
       "      <td>02</td>\n",
       "      <td>01</td>\n",
       "      <td>53 Mile Roadhouse</td>\n",
       "      <td>United</td>\n",
       "      <td>ULP</td>\n",
       "      <td>116.5</td>\n",
       "      <td>31 South Western Hwy</td>\n",
       "      <td>PINJARRA</td>\n",
       "      <td>6208</td>\n",
       "      <td>Murray</td>\n",
       "      <td>Peel</td>\n",
       "    </tr>\n",
       "    <tr>\n",
       "      <th>1</th>\n",
       "      <td>2021</td>\n",
       "      <td>02</td>\n",
       "      <td>01</td>\n",
       "      <td>53 Mile Roadhouse</td>\n",
       "      <td>United</td>\n",
       "      <td>Diesel</td>\n",
       "      <td>115.5</td>\n",
       "      <td>31 South Western Hwy</td>\n",
       "      <td>PINJARRA</td>\n",
       "      <td>6208</td>\n",
       "      <td>Murray</td>\n",
       "      <td>Peel</td>\n",
       "    </tr>\n",
       "    <tr>\n",
       "      <th>2</th>\n",
       "      <td>2021</td>\n",
       "      <td>02</td>\n",
       "      <td>01</td>\n",
       "      <td>53 Mile Roadhouse</td>\n",
       "      <td>United</td>\n",
       "      <td>98 RON</td>\n",
       "      <td>131.5</td>\n",
       "      <td>31 South Western Hwy</td>\n",
       "      <td>PINJARRA</td>\n",
       "      <td>6208</td>\n",
       "      <td>Murray</td>\n",
       "      <td>Peel</td>\n",
       "    </tr>\n",
       "    <tr>\n",
       "      <th>3</th>\n",
       "      <td>2021</td>\n",
       "      <td>02</td>\n",
       "      <td>01</td>\n",
       "      <td>7-Eleven Ascot</td>\n",
       "      <td>7-Eleven</td>\n",
       "      <td>ULP</td>\n",
       "      <td>112.9</td>\n",
       "      <td>194 Great Eastern Hwy</td>\n",
       "      <td>ASCOT</td>\n",
       "      <td>6104</td>\n",
       "      <td>South of River</td>\n",
       "      <td>Metro</td>\n",
       "    </tr>\n",
       "    <tr>\n",
       "      <th>4</th>\n",
       "      <td>2021</td>\n",
       "      <td>02</td>\n",
       "      <td>01</td>\n",
       "      <td>7-Eleven Ascot</td>\n",
       "      <td>7-Eleven</td>\n",
       "      <td>Brand Diesel</td>\n",
       "      <td>123.9</td>\n",
       "      <td>194 Great Eastern Hwy</td>\n",
       "      <td>ASCOT</td>\n",
       "      <td>6104</td>\n",
       "      <td>South of River</td>\n",
       "      <td>Metro</td>\n",
       "    </tr>\n",
       "  </tbody>\n",
       "</table>\n",
       "</div>"
      ],
      "text/plain": [
       "   year month day       trading_name brand_description product_description  \\\n",
       "0  2021    02  01  53 Mile Roadhouse            United                 ULP   \n",
       "1  2021    02  01  53 Mile Roadhouse            United              Diesel   \n",
       "2  2021    02  01  53 Mile Roadhouse            United              98 RON   \n",
       "3  2021    02  01     7-Eleven Ascot          7-Eleven                 ULP   \n",
       "4  2021    02  01     7-Eleven Ascot          7-Eleven        Brand Diesel   \n",
       "\n",
       "   product_price                address  location  postcode area_description  \\\n",
       "0          116.5   31 South Western Hwy  PINJARRA      6208           Murray   \n",
       "1          115.5   31 South Western Hwy  PINJARRA      6208           Murray   \n",
       "2          131.5   31 South Western Hwy  PINJARRA      6208           Murray   \n",
       "3          112.9  194 Great Eastern Hwy     ASCOT      6104   South of River   \n",
       "4          123.9  194 Great Eastern Hwy     ASCOT      6104   South of River   \n",
       "\n",
       "  region_description  \n",
       "0               Peel  \n",
       "1               Peel  \n",
       "2               Peel  \n",
       "3              Metro  \n",
       "4              Metro  "
      ]
     },
     "execution_count": 14,
     "metadata": {},
     "output_type": "execute_result"
    }
   ],
   "source": [
    "# Re-order dataframe for logic bases move 'year', 'month' and 'day' to the left. \n",
    "perth_fuel = perth_fuel[[\n",
    "    'year',\n",
    "    'month',\n",
    "    'day',\n",
    "    'trading_name', \n",
    "    'brand_description',\n",
    "    'product_description',\n",
    "    'product_price',\n",
    "    'address',\n",
    "    'location',\n",
    "    'postcode',\n",
    "    'area_description',\n",
    "    'region_description']]\n",
    "\n",
    "perth_fuel.head()"
   ]
  },
  {
   "cell_type": "code",
   "execution_count": 15,
   "metadata": {},
   "outputs": [
    {
     "data": {
      "text/plain": [
       "year                    object\n",
       "month                   object\n",
       "day                     object\n",
       "trading_name            object\n",
       "brand_description       object\n",
       "product_description     object\n",
       "product_price          float64\n",
       "address                 object\n",
       "location                object\n",
       "postcode                 int64\n",
       "area_description        object\n",
       "region_description      object\n",
       "dtype: object"
      ]
     },
     "execution_count": 15,
     "metadata": {},
     "output_type": "execute_result"
    }
   ],
   "source": [
    "perth_fuel.dtypes"
   ]
  },
  {
   "cell_type": "code",
   "execution_count": 16,
   "metadata": {},
   "outputs": [],
   "source": [
    "# Change the dtype to numeric \n",
    "perth_fuel[[\"year\", \"month\", \"day\"]] = perth_fuel[[\"year\", \"month\", \"day\"]].apply(pd.to_numeric)"
   ]
  },
  {
   "cell_type": "code",
   "execution_count": 17,
   "metadata": {},
   "outputs": [
    {
     "name": "stdout",
     "output_type": "stream",
     "text": [
      "brand    25\n",
      "dtype: int64\n"
     ]
    }
   ],
   "source": [
    "#Get a list of number of brands in WA. \n",
    "number_brands = pd.DataFrame(perth_fuel['brand_description'].unique(), columns=['brand'])\n",
    "print(number_brands.count())"
   ]
  },
  {
   "cell_type": "code",
   "execution_count": 18,
   "metadata": {},
   "outputs": [
    {
     "name": "stdout",
     "output_type": "stream",
     "text": [
      "trading_name    804\n",
      "dtype: int64\n"
     ]
    }
   ],
   "source": [
    "# Get a list of number of stations in WA. \n",
    "number_station = pd.DataFrame(perth_fuel['trading_name'].unique(),columns=['trading_name'])\n",
    "#number_station.rename(columns={'0':'Brands'}, inplace=True)\n",
    "print(number_station.count())"
   ]
  },
  {
   "cell_type": "code",
   "execution_count": 19,
   "metadata": {},
   "outputs": [
    {
     "name": "stdout",
     "output_type": "stream",
     "text": [
      "region    10\n",
      "dtype: int64\n"
     ]
    }
   ],
   "source": [
    "# List of Regions in WA. \n",
    "number_regions = pd.DataFrame(perth_fuel['region_description'].unique(), columns=['region'])\n",
    "print(number_regions.count())"
   ]
  },
  {
   "cell_type": "code",
   "execution_count": 20,
   "metadata": {},
   "outputs": [
    {
     "name": "stdout",
     "output_type": "stream",
     "text": [
      "suburb    57\n",
      "dtype: int64\n"
     ]
    }
   ],
   "source": [
    "# list the number of suburbs in WA. \n",
    "number_suburbs = pd.DataFrame(perth_fuel['area_description'].unique(), columns=['suburb'])\n",
    "print(number_suburbs.count())"
   ]
  },
  {
   "cell_type": "markdown",
   "metadata": {},
   "source": [
    "•\tMoving the data onto the AWS database so it can be used through Tableau "
   ]
  },
  {
   "cell_type": "code",
   "execution_count": 21,
   "metadata": {},
   "outputs": [],
   "source": [
    "perth_fuel = perth_fuel.reset_index()\n",
    "perth_fuel = perth_fuel.drop(columns=['index'])\n",
    "# perth_fuel.to_csv('perthfuel.csv')"
   ]
  },
  {
   "cell_type": "markdown",
   "metadata": {},
   "source": [
    "•\tDue to the size of the database and how long it was taking to pull the data best to break down into different tables to build charts"
   ]
  },
  {
   "cell_type": "code",
   "execution_count": 22,
   "metadata": {},
   "outputs": [
    {
     "data": {
      "text/html": [
       "<div>\n",
       "<style scoped>\n",
       "    .dataframe tbody tr th:only-of-type {\n",
       "        vertical-align: middle;\n",
       "    }\n",
       "\n",
       "    .dataframe tbody tr th {\n",
       "        vertical-align: top;\n",
       "    }\n",
       "\n",
       "    .dataframe thead th {\n",
       "        text-align: right;\n",
       "    }\n",
       "</style>\n",
       "<table border=\"1\" class=\"dataframe\">\n",
       "  <thead>\n",
       "    <tr style=\"text-align: right;\">\n",
       "      <th></th>\n",
       "      <th>year</th>\n",
       "      <th>region_description</th>\n",
       "      <th>area_description</th>\n",
       "      <th>brand_description</th>\n",
       "      <th>product_description</th>\n",
       "      <th>product_price</th>\n",
       "    </tr>\n",
       "  </thead>\n",
       "  <tbody>\n",
       "    <tr>\n",
       "      <th>0</th>\n",
       "      <td>2021</td>\n",
       "      <td>Gascoyne</td>\n",
       "      <td>Carnarvon</td>\n",
       "      <td>Ampol</td>\n",
       "      <td>Brand Diesel</td>\n",
       "      <td>175.419</td>\n",
       "    </tr>\n",
       "    <tr>\n",
       "      <th>1</th>\n",
       "      <td>2021</td>\n",
       "      <td>Gascoyne</td>\n",
       "      <td>Carnarvon</td>\n",
       "      <td>Ampol</td>\n",
       "      <td>Diesel</td>\n",
       "      <td>172.419</td>\n",
       "    </tr>\n",
       "    <tr>\n",
       "      <th>2</th>\n",
       "      <td>2021</td>\n",
       "      <td>Gascoyne</td>\n",
       "      <td>Carnarvon</td>\n",
       "      <td>BP</td>\n",
       "      <td>98 RON</td>\n",
       "      <td>172.117</td>\n",
       "    </tr>\n",
       "    <tr>\n",
       "      <th>3</th>\n",
       "      <td>2021</td>\n",
       "      <td>Gascoyne</td>\n",
       "      <td>Carnarvon</td>\n",
       "      <td>BP</td>\n",
       "      <td>Diesel</td>\n",
       "      <td>150.408</td>\n",
       "    </tr>\n",
       "    <tr>\n",
       "      <th>4</th>\n",
       "      <td>2021</td>\n",
       "      <td>Gascoyne</td>\n",
       "      <td>Carnarvon</td>\n",
       "      <td>BP</td>\n",
       "      <td>ULP</td>\n",
       "      <td>152.117</td>\n",
       "    </tr>\n",
       "  </tbody>\n",
       "</table>\n",
       "</div>"
      ],
      "text/plain": [
       "   year region_description area_description brand_description  \\\n",
       "0  2021           Gascoyne        Carnarvon             Ampol   \n",
       "1  2021           Gascoyne        Carnarvon             Ampol   \n",
       "2  2021           Gascoyne        Carnarvon                BP   \n",
       "3  2021           Gascoyne        Carnarvon                BP   \n",
       "4  2021           Gascoyne        Carnarvon                BP   \n",
       "\n",
       "  product_description  product_price  \n",
       "0        Brand Diesel        175.419  \n",
       "1              Diesel        172.419  \n",
       "2              98 RON        172.117  \n",
       "3              Diesel        150.408  \n",
       "4                 ULP        152.117  "
      ]
     },
     "execution_count": 22,
     "metadata": {},
     "output_type": "execute_result"
    }
   ],
   "source": [
    "# Create a dataframe that stores the values by year using ‘groupby’\n",
    "year = perth_fuel.groupby([\"year\",\"region_description\",\"area_description\",\"brand_description\",\"product_description\"])[\"product_price\"].mean()\n",
    "year = pd.DataFrame(year)\n",
    "year = year.reset_index()\n",
    "\n",
    "# Round the values to 3. \n",
    "year = year.round({'product_price':3})\n",
    "#year.to_csv('year.csv')\n",
    "year.head()"
   ]
  },
  {
   "cell_type": "code",
   "execution_count": 23,
   "metadata": {},
   "outputs": [
    {
     "data": {
      "text/html": [
       "<div>\n",
       "<style scoped>\n",
       "    .dataframe tbody tr th:only-of-type {\n",
       "        vertical-align: middle;\n",
       "    }\n",
       "\n",
       "    .dataframe tbody tr th {\n",
       "        vertical-align: top;\n",
       "    }\n",
       "\n",
       "    .dataframe thead th {\n",
       "        text-align: right;\n",
       "    }\n",
       "</style>\n",
       "<table border=\"1\" class=\"dataframe\">\n",
       "  <thead>\n",
       "    <tr style=\"text-align: right;\">\n",
       "      <th></th>\n",
       "      <th>year</th>\n",
       "      <th>month</th>\n",
       "      <th>region_description</th>\n",
       "      <th>area_description</th>\n",
       "      <th>brand_description</th>\n",
       "      <th>product_description</th>\n",
       "      <th>product_price</th>\n",
       "    </tr>\n",
       "  </thead>\n",
       "  <tbody>\n",
       "    <tr>\n",
       "      <th>0</th>\n",
       "      <td>2021</td>\n",
       "      <td>2</td>\n",
       "      <td>Gascoyne</td>\n",
       "      <td>Carnarvon</td>\n",
       "      <td>BP</td>\n",
       "      <td>98 RON</td>\n",
       "      <td>150.793</td>\n",
       "    </tr>\n",
       "    <tr>\n",
       "      <th>1</th>\n",
       "      <td>2021</td>\n",
       "      <td>2</td>\n",
       "      <td>Gascoyne</td>\n",
       "      <td>Carnarvon</td>\n",
       "      <td>BP</td>\n",
       "      <td>Diesel</td>\n",
       "      <td>134.043</td>\n",
       "    </tr>\n",
       "    <tr>\n",
       "      <th>2</th>\n",
       "      <td>2021</td>\n",
       "      <td>2</td>\n",
       "      <td>Gascoyne</td>\n",
       "      <td>Carnarvon</td>\n",
       "      <td>BP</td>\n",
       "      <td>ULP</td>\n",
       "      <td>130.793</td>\n",
       "    </tr>\n",
       "    <tr>\n",
       "      <th>3</th>\n",
       "      <td>2021</td>\n",
       "      <td>2</td>\n",
       "      <td>Gascoyne</td>\n",
       "      <td>Carnarvon</td>\n",
       "      <td>Caltex</td>\n",
       "      <td>98 RON</td>\n",
       "      <td>153.757</td>\n",
       "    </tr>\n",
       "    <tr>\n",
       "      <th>4</th>\n",
       "      <td>2021</td>\n",
       "      <td>2</td>\n",
       "      <td>Gascoyne</td>\n",
       "      <td>Carnarvon</td>\n",
       "      <td>Caltex</td>\n",
       "      <td>Brand Diesel</td>\n",
       "      <td>137.596</td>\n",
       "    </tr>\n",
       "  </tbody>\n",
       "</table>\n",
       "</div>"
      ],
      "text/plain": [
       "   year  month region_description area_description brand_description  \\\n",
       "0  2021      2           Gascoyne        Carnarvon                BP   \n",
       "1  2021      2           Gascoyne        Carnarvon                BP   \n",
       "2  2021      2           Gascoyne        Carnarvon                BP   \n",
       "3  2021      2           Gascoyne        Carnarvon            Caltex   \n",
       "4  2021      2           Gascoyne        Carnarvon            Caltex   \n",
       "\n",
       "  product_description  product_price  \n",
       "0              98 RON        150.793  \n",
       "1              Diesel        134.043  \n",
       "2                 ULP        130.793  \n",
       "3              98 RON        153.757  \n",
       "4        Brand Diesel        137.596  "
      ]
     },
     "execution_count": 23,
     "metadata": {},
     "output_type": "execute_result"
    }
   ],
   "source": [
    "# Create a dataframe that stores the values by year/month using ‘groupby’\n",
    "month = perth_fuel.groupby([\"year\",\"month\",\"region_description\",\"area_description\",\"brand_description\",\"product_description\"])[\"product_price\"].mean()\n",
    "month = pd.DataFrame(month)\n",
    "month = month.reset_index()\n",
    "\n",
    "# Round the values to 3 \n",
    "month = month.round({'product_price':3})\n",
    "#month.to_csv('month.csv')\n",
    "month.head()"
   ]
  },
  {
   "cell_type": "markdown",
   "metadata": {},
   "source": [
    "•\tThis section was created to try and get live data onto the website using the available RSS feed. "
   ]
  },
  {
   "cell_type": "code",
   "execution_count": 35,
   "metadata": {},
   "outputs": [
    {
     "data": {
      "text/html": [
       "<div>\n",
       "<style scoped>\n",
       "    .dataframe tbody tr th:only-of-type {\n",
       "        vertical-align: middle;\n",
       "    }\n",
       "\n",
       "    .dataframe tbody tr th {\n",
       "        vertical-align: top;\n",
       "    }\n",
       "\n",
       "    .dataframe thead th {\n",
       "        text-align: right;\n",
       "    }\n",
       "</style>\n",
       "<table border=\"1\" class=\"dataframe\">\n",
       "  <thead>\n",
       "    <tr style=\"text-align: right;\">\n",
       "      <th></th>\n",
       "    </tr>\n",
       "  </thead>\n",
       "  <tbody>\n",
       "  </tbody>\n",
       "</table>\n",
       "</div>"
      ],
      "text/plain": [
       "Empty DataFrame\n",
       "Columns: []\n",
       "Index: []"
      ]
     },
     "execution_count": 35,
     "metadata": {},
     "output_type": "execute_result"
    }
   ],
   "source": [
    "# The rss feed link from the fuelwatch website. \n",
    "rawrss = ['https://www.fuelwatch.wa.gov.au/fuelwatch/fuelWatchRSS?StateRegion=98&Product=1&Day=tomorrow']\n",
    "\n",
    "# Create datframe to sotre the data from the rss feed. \n",
    "df_rss = pd.DataFrame([])\n",
    "\n",
    "# Create a for loop to grab the diffrent types of information. \n",
    "for url in rawrss:\n",
    "    dp = feedparser.parse(url)\n",
    "\n",
    "    for i, e in enumerate(dp.entries):\n",
    "        feed = {}\n",
    "        feed['Price'] = e.price if 'price' in e else f'price {i}'\n",
    "        feed['Brand'] = e.brand if 'brand' in e else f'price {1}'\n",
    "        feed['Address'] = e.address if 'address' in e else f'no address {i}'\n",
    "        feed['Phone'] = e.phone if 'phone' in e else f'phone {i}'\n",
    "        df = df.append(pd.DataFrame([feed]), ignore_index=True)\n",
    "\n",
    "df_rss.head()"
   ]
  },
  {
   "cell_type": "code",
   "execution_count": 37,
   "metadata": {},
   "outputs": [
    {
     "data": {
      "text/html": [
       "<div>\n",
       "<style scoped>\n",
       "    .dataframe tbody tr th:only-of-type {\n",
       "        vertical-align: middle;\n",
       "    }\n",
       "\n",
       "    .dataframe tbody tr th {\n",
       "        vertical-align: top;\n",
       "    }\n",
       "\n",
       "    .dataframe thead th {\n",
       "        text-align: right;\n",
       "    }\n",
       "</style>\n",
       "<table border=\"1\" class=\"dataframe\">\n",
       "  <thead>\n",
       "    <tr style=\"text-align: right;\">\n",
       "      <th></th>\n",
       "    </tr>\n",
       "  </thead>\n",
       "  <tbody>\n",
       "  </tbody>\n",
       "</table>\n",
       "</div>"
      ],
      "text/plain": [
       "Empty DataFrame\n",
       "Columns: []\n",
       "Index: []"
      ]
     },
     "execution_count": 37,
     "metadata": {},
     "output_type": "execute_result"
    }
   ],
   "source": [
    "# Check the data types. \n",
    "df_rss.head()"
   ]
  },
  {
   "cell_type": "code",
   "execution_count": 30,
   "metadata": {},
   "outputs": [
    {
     "ename": "KeyError",
     "evalue": "'price'",
     "output_type": "error",
     "traceback": [
      "\u001b[1;31m---------------------------------------------------------------------------\u001b[0m",
      "\u001b[1;31mKeyError\u001b[0m                                  Traceback (most recent call last)",
      "\u001b[1;32m~\\anaconda3\\lib\\site-packages\\pandas\\core\\indexes\\base.py\u001b[0m in \u001b[0;36mget_loc\u001b[1;34m(self, key, method, tolerance)\u001b[0m\n\u001b[0;32m   2894\u001b[0m             \u001b[1;32mtry\u001b[0m\u001b[1;33m:\u001b[0m\u001b[1;33m\u001b[0m\u001b[1;33m\u001b[0m\u001b[0m\n\u001b[1;32m-> 2895\u001b[1;33m                 \u001b[1;32mreturn\u001b[0m \u001b[0mself\u001b[0m\u001b[1;33m.\u001b[0m\u001b[0m_engine\u001b[0m\u001b[1;33m.\u001b[0m\u001b[0mget_loc\u001b[0m\u001b[1;33m(\u001b[0m\u001b[0mcasted_key\u001b[0m\u001b[1;33m)\u001b[0m\u001b[1;33m\u001b[0m\u001b[1;33m\u001b[0m\u001b[0m\n\u001b[0m\u001b[0;32m   2896\u001b[0m             \u001b[1;32mexcept\u001b[0m \u001b[0mKeyError\u001b[0m \u001b[1;32mas\u001b[0m \u001b[0merr\u001b[0m\u001b[1;33m:\u001b[0m\u001b[1;33m\u001b[0m\u001b[1;33m\u001b[0m\u001b[0m\n",
      "\u001b[1;32mpandas\\_libs\\index.pyx\u001b[0m in \u001b[0;36mpandas._libs.index.IndexEngine.get_loc\u001b[1;34m()\u001b[0m\n",
      "\u001b[1;32mpandas\\_libs\\index.pyx\u001b[0m in \u001b[0;36mpandas._libs.index.IndexEngine.get_loc\u001b[1;34m()\u001b[0m\n",
      "\u001b[1;32mpandas\\_libs\\hashtable_class_helper.pxi\u001b[0m in \u001b[0;36mpandas._libs.hashtable.PyObjectHashTable.get_item\u001b[1;34m()\u001b[0m\n",
      "\u001b[1;32mpandas\\_libs\\hashtable_class_helper.pxi\u001b[0m in \u001b[0;36mpandas._libs.hashtable.PyObjectHashTable.get_item\u001b[1;34m()\u001b[0m\n",
      "\u001b[1;31mKeyError\u001b[0m: 'price'",
      "\nThe above exception was the direct cause of the following exception:\n",
      "\u001b[1;31mKeyError\u001b[0m                                  Traceback (most recent call last)",
      "\u001b[1;32m<ipython-input-30-628deb21f5e1>\u001b[0m in \u001b[0;36m<module>\u001b[1;34m\u001b[0m\n\u001b[0;32m      1\u001b[0m \u001b[1;31m# Change the numeric values again\u001b[0m\u001b[1;33m\u001b[0m\u001b[1;33m\u001b[0m\u001b[1;33m\u001b[0m\u001b[0m\n\u001b[1;32m----> 2\u001b[1;33m \u001b[0mdf_rss\u001b[0m\u001b[1;33m[\u001b[0m\u001b[1;34m'price'\u001b[0m\u001b[1;33m]\u001b[0m \u001b[1;33m=\u001b[0m \u001b[0mpd\u001b[0m\u001b[1;33m.\u001b[0m\u001b[0mto_numeric\u001b[0m\u001b[1;33m(\u001b[0m\u001b[0mdf_rss\u001b[0m\u001b[1;33m[\u001b[0m\u001b[1;34m'price'\u001b[0m\u001b[1;33m]\u001b[0m\u001b[1;33m)\u001b[0m\u001b[1;33m\u001b[0m\u001b[1;33m\u001b[0m\u001b[0m\n\u001b[0m",
      "\u001b[1;32m~\\anaconda3\\lib\\site-packages\\pandas\\core\\frame.py\u001b[0m in \u001b[0;36m__getitem__\u001b[1;34m(self, key)\u001b[0m\n\u001b[0;32m   2900\u001b[0m             \u001b[1;32mif\u001b[0m \u001b[0mself\u001b[0m\u001b[1;33m.\u001b[0m\u001b[0mcolumns\u001b[0m\u001b[1;33m.\u001b[0m\u001b[0mnlevels\u001b[0m \u001b[1;33m>\u001b[0m \u001b[1;36m1\u001b[0m\u001b[1;33m:\u001b[0m\u001b[1;33m\u001b[0m\u001b[1;33m\u001b[0m\u001b[0m\n\u001b[0;32m   2901\u001b[0m                 \u001b[1;32mreturn\u001b[0m \u001b[0mself\u001b[0m\u001b[1;33m.\u001b[0m\u001b[0m_getitem_multilevel\u001b[0m\u001b[1;33m(\u001b[0m\u001b[0mkey\u001b[0m\u001b[1;33m)\u001b[0m\u001b[1;33m\u001b[0m\u001b[1;33m\u001b[0m\u001b[0m\n\u001b[1;32m-> 2902\u001b[1;33m             \u001b[0mindexer\u001b[0m \u001b[1;33m=\u001b[0m \u001b[0mself\u001b[0m\u001b[1;33m.\u001b[0m\u001b[0mcolumns\u001b[0m\u001b[1;33m.\u001b[0m\u001b[0mget_loc\u001b[0m\u001b[1;33m(\u001b[0m\u001b[0mkey\u001b[0m\u001b[1;33m)\u001b[0m\u001b[1;33m\u001b[0m\u001b[1;33m\u001b[0m\u001b[0m\n\u001b[0m\u001b[0;32m   2903\u001b[0m             \u001b[1;32mif\u001b[0m \u001b[0mis_integer\u001b[0m\u001b[1;33m(\u001b[0m\u001b[0mindexer\u001b[0m\u001b[1;33m)\u001b[0m\u001b[1;33m:\u001b[0m\u001b[1;33m\u001b[0m\u001b[1;33m\u001b[0m\u001b[0m\n\u001b[0;32m   2904\u001b[0m                 \u001b[0mindexer\u001b[0m \u001b[1;33m=\u001b[0m \u001b[1;33m[\u001b[0m\u001b[0mindexer\u001b[0m\u001b[1;33m]\u001b[0m\u001b[1;33m\u001b[0m\u001b[1;33m\u001b[0m\u001b[0m\n",
      "\u001b[1;32m~\\anaconda3\\lib\\site-packages\\pandas\\core\\indexes\\base.py\u001b[0m in \u001b[0;36mget_loc\u001b[1;34m(self, key, method, tolerance)\u001b[0m\n\u001b[0;32m   2895\u001b[0m                 \u001b[1;32mreturn\u001b[0m \u001b[0mself\u001b[0m\u001b[1;33m.\u001b[0m\u001b[0m_engine\u001b[0m\u001b[1;33m.\u001b[0m\u001b[0mget_loc\u001b[0m\u001b[1;33m(\u001b[0m\u001b[0mcasted_key\u001b[0m\u001b[1;33m)\u001b[0m\u001b[1;33m\u001b[0m\u001b[1;33m\u001b[0m\u001b[0m\n\u001b[0;32m   2896\u001b[0m             \u001b[1;32mexcept\u001b[0m \u001b[0mKeyError\u001b[0m \u001b[1;32mas\u001b[0m \u001b[0merr\u001b[0m\u001b[1;33m:\u001b[0m\u001b[1;33m\u001b[0m\u001b[1;33m\u001b[0m\u001b[0m\n\u001b[1;32m-> 2897\u001b[1;33m                 \u001b[1;32mraise\u001b[0m \u001b[0mKeyError\u001b[0m\u001b[1;33m(\u001b[0m\u001b[0mkey\u001b[0m\u001b[1;33m)\u001b[0m \u001b[1;32mfrom\u001b[0m \u001b[0merr\u001b[0m\u001b[1;33m\u001b[0m\u001b[1;33m\u001b[0m\u001b[0m\n\u001b[0m\u001b[0;32m   2898\u001b[0m \u001b[1;33m\u001b[0m\u001b[0m\n\u001b[0;32m   2899\u001b[0m         \u001b[1;32mif\u001b[0m \u001b[0mtolerance\u001b[0m \u001b[1;32mis\u001b[0m \u001b[1;32mnot\u001b[0m \u001b[1;32mNone\u001b[0m\u001b[1;33m:\u001b[0m\u001b[1;33m\u001b[0m\u001b[1;33m\u001b[0m\u001b[0m\n",
      "\u001b[1;31mKeyError\u001b[0m: 'price'"
     ]
    }
   ],
   "source": [
    "# Change the numeric values again \n",
    "df_rss['price'] = pd.to_numeric(df_rss['price'])"
   ]
  },
  {
   "cell_type": "code",
   "execution_count": 31,
   "metadata": {},
   "outputs": [
    {
     "ename": "KeyError",
     "evalue": "'Price'",
     "output_type": "error",
     "traceback": [
      "\u001b[1;31m---------------------------------------------------------------------------\u001b[0m",
      "\u001b[1;31mKeyError\u001b[0m                                  Traceback (most recent call last)",
      "\u001b[1;32m~\\anaconda3\\lib\\site-packages\\pandas\\core\\indexes\\base.py\u001b[0m in \u001b[0;36mget_loc\u001b[1;34m(self, key, method, tolerance)\u001b[0m\n\u001b[0;32m   2894\u001b[0m             \u001b[1;32mtry\u001b[0m\u001b[1;33m:\u001b[0m\u001b[1;33m\u001b[0m\u001b[1;33m\u001b[0m\u001b[0m\n\u001b[1;32m-> 2895\u001b[1;33m                 \u001b[1;32mreturn\u001b[0m \u001b[0mself\u001b[0m\u001b[1;33m.\u001b[0m\u001b[0m_engine\u001b[0m\u001b[1;33m.\u001b[0m\u001b[0mget_loc\u001b[0m\u001b[1;33m(\u001b[0m\u001b[0mcasted_key\u001b[0m\u001b[1;33m)\u001b[0m\u001b[1;33m\u001b[0m\u001b[1;33m\u001b[0m\u001b[0m\n\u001b[0m\u001b[0;32m   2896\u001b[0m             \u001b[1;32mexcept\u001b[0m \u001b[0mKeyError\u001b[0m \u001b[1;32mas\u001b[0m \u001b[0merr\u001b[0m\u001b[1;33m:\u001b[0m\u001b[1;33m\u001b[0m\u001b[1;33m\u001b[0m\u001b[0m\n",
      "\u001b[1;32mpandas\\_libs\\index.pyx\u001b[0m in \u001b[0;36mpandas._libs.index.IndexEngine.get_loc\u001b[1;34m()\u001b[0m\n",
      "\u001b[1;32mpandas\\_libs\\index.pyx\u001b[0m in \u001b[0;36mpandas._libs.index.IndexEngine.get_loc\u001b[1;34m()\u001b[0m\n",
      "\u001b[1;32mpandas\\_libs\\hashtable_class_helper.pxi\u001b[0m in \u001b[0;36mpandas._libs.hashtable.PyObjectHashTable.get_item\u001b[1;34m()\u001b[0m\n",
      "\u001b[1;32mpandas\\_libs\\hashtable_class_helper.pxi\u001b[0m in \u001b[0;36mpandas._libs.hashtable.PyObjectHashTable.get_item\u001b[1;34m()\u001b[0m\n",
      "\u001b[1;31mKeyError\u001b[0m: 'Price'",
      "\nThe above exception was the direct cause of the following exception:\n",
      "\u001b[1;31mKeyError\u001b[0m                                  Traceback (most recent call last)",
      "\u001b[1;32m<ipython-input-31-a3f6f7026c46>\u001b[0m in \u001b[0;36m<module>\u001b[1;34m\u001b[0m\n\u001b[0;32m      1\u001b[0m \u001b[1;31m# Get the average and greate dataframe to store it also keep three values,\u001b[0m\u001b[1;33m\u001b[0m\u001b[1;33m\u001b[0m\u001b[1;33m\u001b[0m\u001b[0m\n\u001b[0;32m      2\u001b[0m \u001b[0mdata_mean\u001b[0m \u001b[1;33m=\u001b[0m \u001b[0mpd\u001b[0m\u001b[1;33m.\u001b[0m\u001b[0mDataFrame\u001b[0m\u001b[1;33m(\u001b[0m\u001b[0mdf_rss\u001b[0m\u001b[1;33m.\u001b[0m\u001b[0mmean\u001b[0m\u001b[1;33m(\u001b[0m\u001b[1;33m)\u001b[0m\u001b[1;33m,\u001b[0m \u001b[0mcolumns\u001b[0m\u001b[1;33m=\u001b[0m\u001b[1;33m[\u001b[0m\u001b[1;34m'Average ULP Perth Metro'\u001b[0m\u001b[1;33m]\u001b[0m\u001b[1;33m)\u001b[0m\u001b[1;33m\u001b[0m\u001b[1;33m\u001b[0m\u001b[0m\n\u001b[1;32m----> 3\u001b[1;33m \u001b[0mdf_rss\u001b[0m \u001b[1;33m=\u001b[0m \u001b[0mdf_rss\u001b[0m\u001b[1;33m.\u001b[0m\u001b[0mnsmallest\u001b[0m\u001b[1;33m(\u001b[0m\u001b[1;36m3\u001b[0m\u001b[1;33m,\u001b[0m \u001b[1;34m'Price'\u001b[0m\u001b[1;33m)\u001b[0m\u001b[1;33m\u001b[0m\u001b[1;33m\u001b[0m\u001b[0m\n\u001b[0m",
      "\u001b[1;32m~\\anaconda3\\lib\\site-packages\\pandas\\core\\frame.py\u001b[0m in \u001b[0;36mnsmallest\u001b[1;34m(self, n, columns, keep)\u001b[0m\n\u001b[0;32m   5779\u001b[0m         \u001b[0mNauru\u001b[0m         \u001b[1;36m337000\u001b[0m  \u001b[1;36m182\u001b[0m      \u001b[0mNR\u001b[0m\u001b[1;33m\u001b[0m\u001b[1;33m\u001b[0m\u001b[0m\n\u001b[0;32m   5780\u001b[0m         \"\"\"\n\u001b[1;32m-> 5781\u001b[1;33m         return algorithms.SelectNFrame(\n\u001b[0m\u001b[0;32m   5782\u001b[0m             \u001b[0mself\u001b[0m\u001b[1;33m,\u001b[0m \u001b[0mn\u001b[0m\u001b[1;33m=\u001b[0m\u001b[0mn\u001b[0m\u001b[1;33m,\u001b[0m \u001b[0mkeep\u001b[0m\u001b[1;33m=\u001b[0m\u001b[0mkeep\u001b[0m\u001b[1;33m,\u001b[0m \u001b[0mcolumns\u001b[0m\u001b[1;33m=\u001b[0m\u001b[0mcolumns\u001b[0m\u001b[1;33m\u001b[0m\u001b[1;33m\u001b[0m\u001b[0m\n\u001b[0;32m   5783\u001b[0m         ).nsmallest()\n",
      "\u001b[1;32m~\\anaconda3\\lib\\site-packages\\pandas\\core\\algorithms.py\u001b[0m in \u001b[0;36mnsmallest\u001b[1;34m(self)\u001b[0m\n\u001b[0;32m   1135\u001b[0m \u001b[1;33m\u001b[0m\u001b[0m\n\u001b[0;32m   1136\u001b[0m     \u001b[1;32mdef\u001b[0m \u001b[0mnsmallest\u001b[0m\u001b[1;33m(\u001b[0m\u001b[0mself\u001b[0m\u001b[1;33m)\u001b[0m\u001b[1;33m:\u001b[0m\u001b[1;33m\u001b[0m\u001b[1;33m\u001b[0m\u001b[0m\n\u001b[1;32m-> 1137\u001b[1;33m         \u001b[1;32mreturn\u001b[0m \u001b[0mself\u001b[0m\u001b[1;33m.\u001b[0m\u001b[0mcompute\u001b[0m\u001b[1;33m(\u001b[0m\u001b[1;34m\"nsmallest\"\u001b[0m\u001b[1;33m)\u001b[0m\u001b[1;33m\u001b[0m\u001b[1;33m\u001b[0m\u001b[0m\n\u001b[0m\u001b[0;32m   1138\u001b[0m \u001b[1;33m\u001b[0m\u001b[0m\n\u001b[0;32m   1139\u001b[0m     \u001b[1;33m@\u001b[0m\u001b[0mstaticmethod\u001b[0m\u001b[1;33m\u001b[0m\u001b[1;33m\u001b[0m\u001b[0m\n",
      "\u001b[1;32m~\\anaconda3\\lib\\site-packages\\pandas\\core\\algorithms.py\u001b[0m in \u001b[0;36mcompute\u001b[1;34m(self, method)\u001b[0m\n\u001b[0;32m   1246\u001b[0m \u001b[1;33m\u001b[0m\u001b[0m\n\u001b[0;32m   1247\u001b[0m         \u001b[1;32mfor\u001b[0m \u001b[0mcolumn\u001b[0m \u001b[1;32min\u001b[0m \u001b[0mcolumns\u001b[0m\u001b[1;33m:\u001b[0m\u001b[1;33m\u001b[0m\u001b[1;33m\u001b[0m\u001b[0m\n\u001b[1;32m-> 1248\u001b[1;33m             \u001b[0mdtype\u001b[0m \u001b[1;33m=\u001b[0m \u001b[0mframe\u001b[0m\u001b[1;33m[\u001b[0m\u001b[0mcolumn\u001b[0m\u001b[1;33m]\u001b[0m\u001b[1;33m.\u001b[0m\u001b[0mdtype\u001b[0m\u001b[1;33m\u001b[0m\u001b[1;33m\u001b[0m\u001b[0m\n\u001b[0m\u001b[0;32m   1249\u001b[0m             \u001b[1;32mif\u001b[0m \u001b[1;32mnot\u001b[0m \u001b[0mself\u001b[0m\u001b[1;33m.\u001b[0m\u001b[0mis_valid_dtype_n_method\u001b[0m\u001b[1;33m(\u001b[0m\u001b[0mdtype\u001b[0m\u001b[1;33m)\u001b[0m\u001b[1;33m:\u001b[0m\u001b[1;33m\u001b[0m\u001b[1;33m\u001b[0m\u001b[0m\n\u001b[0;32m   1250\u001b[0m                 raise TypeError(\n",
      "\u001b[1;32m~\\anaconda3\\lib\\site-packages\\pandas\\core\\frame.py\u001b[0m in \u001b[0;36m__getitem__\u001b[1;34m(self, key)\u001b[0m\n\u001b[0;32m   2900\u001b[0m             \u001b[1;32mif\u001b[0m \u001b[0mself\u001b[0m\u001b[1;33m.\u001b[0m\u001b[0mcolumns\u001b[0m\u001b[1;33m.\u001b[0m\u001b[0mnlevels\u001b[0m \u001b[1;33m>\u001b[0m \u001b[1;36m1\u001b[0m\u001b[1;33m:\u001b[0m\u001b[1;33m\u001b[0m\u001b[1;33m\u001b[0m\u001b[0m\n\u001b[0;32m   2901\u001b[0m                 \u001b[1;32mreturn\u001b[0m \u001b[0mself\u001b[0m\u001b[1;33m.\u001b[0m\u001b[0m_getitem_multilevel\u001b[0m\u001b[1;33m(\u001b[0m\u001b[0mkey\u001b[0m\u001b[1;33m)\u001b[0m\u001b[1;33m\u001b[0m\u001b[1;33m\u001b[0m\u001b[0m\n\u001b[1;32m-> 2902\u001b[1;33m             \u001b[0mindexer\u001b[0m \u001b[1;33m=\u001b[0m \u001b[0mself\u001b[0m\u001b[1;33m.\u001b[0m\u001b[0mcolumns\u001b[0m\u001b[1;33m.\u001b[0m\u001b[0mget_loc\u001b[0m\u001b[1;33m(\u001b[0m\u001b[0mkey\u001b[0m\u001b[1;33m)\u001b[0m\u001b[1;33m\u001b[0m\u001b[1;33m\u001b[0m\u001b[0m\n\u001b[0m\u001b[0;32m   2903\u001b[0m             \u001b[1;32mif\u001b[0m \u001b[0mis_integer\u001b[0m\u001b[1;33m(\u001b[0m\u001b[0mindexer\u001b[0m\u001b[1;33m)\u001b[0m\u001b[1;33m:\u001b[0m\u001b[1;33m\u001b[0m\u001b[1;33m\u001b[0m\u001b[0m\n\u001b[0;32m   2904\u001b[0m                 \u001b[0mindexer\u001b[0m \u001b[1;33m=\u001b[0m \u001b[1;33m[\u001b[0m\u001b[0mindexer\u001b[0m\u001b[1;33m]\u001b[0m\u001b[1;33m\u001b[0m\u001b[1;33m\u001b[0m\u001b[0m\n",
      "\u001b[1;32m~\\anaconda3\\lib\\site-packages\\pandas\\core\\indexes\\base.py\u001b[0m in \u001b[0;36mget_loc\u001b[1;34m(self, key, method, tolerance)\u001b[0m\n\u001b[0;32m   2895\u001b[0m                 \u001b[1;32mreturn\u001b[0m \u001b[0mself\u001b[0m\u001b[1;33m.\u001b[0m\u001b[0m_engine\u001b[0m\u001b[1;33m.\u001b[0m\u001b[0mget_loc\u001b[0m\u001b[1;33m(\u001b[0m\u001b[0mcasted_key\u001b[0m\u001b[1;33m)\u001b[0m\u001b[1;33m\u001b[0m\u001b[1;33m\u001b[0m\u001b[0m\n\u001b[0;32m   2896\u001b[0m             \u001b[1;32mexcept\u001b[0m \u001b[0mKeyError\u001b[0m \u001b[1;32mas\u001b[0m \u001b[0merr\u001b[0m\u001b[1;33m:\u001b[0m\u001b[1;33m\u001b[0m\u001b[1;33m\u001b[0m\u001b[0m\n\u001b[1;32m-> 2897\u001b[1;33m                 \u001b[1;32mraise\u001b[0m \u001b[0mKeyError\u001b[0m\u001b[1;33m(\u001b[0m\u001b[0mkey\u001b[0m\u001b[1;33m)\u001b[0m \u001b[1;32mfrom\u001b[0m \u001b[0merr\u001b[0m\u001b[1;33m\u001b[0m\u001b[1;33m\u001b[0m\u001b[0m\n\u001b[0m\u001b[0;32m   2898\u001b[0m \u001b[1;33m\u001b[0m\u001b[0m\n\u001b[0;32m   2899\u001b[0m         \u001b[1;32mif\u001b[0m \u001b[0mtolerance\u001b[0m \u001b[1;32mis\u001b[0m \u001b[1;32mnot\u001b[0m \u001b[1;32mNone\u001b[0m\u001b[1;33m:\u001b[0m\u001b[1;33m\u001b[0m\u001b[1;33m\u001b[0m\u001b[0m\n",
      "\u001b[1;31mKeyError\u001b[0m: 'Price'"
     ]
    }
   ],
   "source": [
    "# Get the average and greate dataframe to store it also keep three values, \n",
    "data_mean = pd.DataFrame(df_rss.mean(), columns=['Average ULP Perth Metro'])\n",
    "df_rss = df_rss.nsmallest(3, 'Price')"
   ]
  },
  {
   "cell_type": "code",
   "execution_count": null,
   "metadata": {},
   "outputs": [],
   "source": [
    "rawrss = ['https://www.fuelwatch.wa.gov.au/fuelwatch/fuelWatchRSS?StateRegion=98&Product=1&Day=tomorrow']\n",
    "\n",
    "best_metro_ulp_price = pd.DataFrame([])\n",
    "\n",
    "for url in rawrss:\n",
    "    dp = feedparser.parse(url)\n",
    "\n",
    "    for i, e in enumerate(dp.entries):\n",
    "        one_feed = {}\n",
    "        one_feed['Price'] = e.price if 'price' in e else f'price {i}'\n",
    "        one_feed['Brand'] = e.brand if 'brand' in e else f'price {1}'\n",
    "        one_feed['Address'] = e.address if 'address' in e else f'no address {i}'\n",
    "        one_feed['Phone'] = e.phone if 'phone' in e else f'phone {i}'\n",
    "        best_metro_ulp_price = best_metro_ulp_price.append(pd.DataFrame([one_feed]), ignore_index=True)\n",
    "\n",
    "best_metro_ulp_price.head()"
   ]
  },
  {
   "cell_type": "code",
   "execution_count": null,
   "metadata": {},
   "outputs": [],
   "source": [
    "best_metro_ulp_price['Price'] =pd.to_numeric(best_metro_ulp_price['Price'])\n",
    "top_1 = best_metro_ulp_price.nsmallest(1,'Price').drop(columns=['Address', 'Phone'])"
   ]
  }
 ],
 "metadata": {
  "interpreter": {
   "hash": "44f552b7dcb52bdbe1465ff40af8423e5e341aff9e1890574e0400d00cd728be"
  },
  "kernelspec": {
   "display_name": "Python 3.8.5 64-bit ('base': conda)",
   "language": "python",
   "name": "python3"
  },
  "language_info": {
   "codemirror_mode": {
    "name": "ipython",
    "version": 3
   },
   "file_extension": ".py",
   "mimetype": "text/x-python",
   "name": "python",
   "nbconvert_exporter": "python",
   "pygments_lexer": "ipython3",
   "version": "3.8.5"
  },
  "orig_nbformat": 4
 },
 "nbformat": 4,
 "nbformat_minor": 2
}
